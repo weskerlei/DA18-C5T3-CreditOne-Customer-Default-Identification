{
 "cells": [
  {
   "cell_type": "markdown",
   "metadata": {},
   "source": [
    "# Default Classification"
   ]
  },
  {
   "cell_type": "code",
   "execution_count": 72,
   "metadata": {},
   "outputs": [],
   "source": [
    "## libraries\n",
    "\n",
    "import pandas as pd\n",
    "import numpy as np\n",
    "import scipy\n",
    "from math import sqrt\n",
    "import matplotlib.pyplot as plt\n",
    "import matplotlib as mpl\n",
    "\n",
    "## estimators\n",
    "from sklearn.neighbors import KNeighborsClassifier\n",
    "from sklearn.svm import SVC\n",
    "from sklearn.ensemble import RandomForestClassifier\n",
    "from sklearn.ensemble import GradientBoostingClassifier\n",
    "from sklearn.neural_network import MLPClassifier\n",
    "\n",
    "## model metrics/CV\n",
    "from sklearn.metrics import classification_report\n",
    "from sklearn.metrics import f1_score, make_scorer, accuracy_score\n",
    "from sklearn.model_selection import cross_val_score\n",
    "from sklearn.model_selection import train_test_split\n",
    "from sklearn.model_selection import GridSearchCV\n",
    "from sklearn.metrics import confusion_matrix"
   ]
  },
  {
   "cell_type": "code",
   "execution_count": 3,
   "metadata": {},
   "outputs": [
    {
     "data": {
      "text/html": [
       "<div>\n",
       "<style scoped>\n",
       "    .dataframe tbody tr th:only-of-type {\n",
       "        vertical-align: middle;\n",
       "    }\n",
       "\n",
       "    .dataframe tbody tr th {\n",
       "        vertical-align: top;\n",
       "    }\n",
       "\n",
       "    .dataframe thead th {\n",
       "        text-align: right;\n",
       "    }\n",
       "</style>\n",
       "<table border=\"1\" class=\"dataframe\">\n",
       "  <thead>\n",
       "    <tr style=\"text-align: right;\">\n",
       "      <th></th>\n",
       "      <th>LIMIT_BAL</th>\n",
       "      <th>SEX</th>\n",
       "      <th>EDUCATION</th>\n",
       "      <th>MARRIAGE</th>\n",
       "      <th>AGE_BIN</th>\n",
       "      <th>PAY_0</th>\n",
       "      <th>PAY_2</th>\n",
       "      <th>PAY_3</th>\n",
       "      <th>PAY_4</th>\n",
       "      <th>PAY_5</th>\n",
       "      <th>...</th>\n",
       "      <th>BILL_AMT4</th>\n",
       "      <th>BILL_AMT5</th>\n",
       "      <th>BILL_AMT6</th>\n",
       "      <th>PAY_AMT1</th>\n",
       "      <th>PAY_AMT2</th>\n",
       "      <th>PAY_AMT3</th>\n",
       "      <th>PAY_AMT4</th>\n",
       "      <th>PAY_AMT5</th>\n",
       "      <th>PAY_AMT6</th>\n",
       "      <th>DEFAULT</th>\n",
       "    </tr>\n",
       "  </thead>\n",
       "  <tbody>\n",
       "    <tr>\n",
       "      <th>0</th>\n",
       "      <td>20000</td>\n",
       "      <td>2</td>\n",
       "      <td>2</td>\n",
       "      <td>1</td>\n",
       "      <td>20</td>\n",
       "      <td>2</td>\n",
       "      <td>2</td>\n",
       "      <td>-1</td>\n",
       "      <td>-1</td>\n",
       "      <td>-2</td>\n",
       "      <td>...</td>\n",
       "      <td>0</td>\n",
       "      <td>0</td>\n",
       "      <td>0</td>\n",
       "      <td>0</td>\n",
       "      <td>689</td>\n",
       "      <td>0</td>\n",
       "      <td>0</td>\n",
       "      <td>0</td>\n",
       "      <td>0</td>\n",
       "      <td>1</td>\n",
       "    </tr>\n",
       "    <tr>\n",
       "      <th>1</th>\n",
       "      <td>120000</td>\n",
       "      <td>2</td>\n",
       "      <td>2</td>\n",
       "      <td>2</td>\n",
       "      <td>20</td>\n",
       "      <td>-1</td>\n",
       "      <td>2</td>\n",
       "      <td>0</td>\n",
       "      <td>0</td>\n",
       "      <td>0</td>\n",
       "      <td>...</td>\n",
       "      <td>3272</td>\n",
       "      <td>3455</td>\n",
       "      <td>3261</td>\n",
       "      <td>0</td>\n",
       "      <td>1000</td>\n",
       "      <td>1000</td>\n",
       "      <td>1000</td>\n",
       "      <td>0</td>\n",
       "      <td>2000</td>\n",
       "      <td>1</td>\n",
       "    </tr>\n",
       "    <tr>\n",
       "      <th>2</th>\n",
       "      <td>90000</td>\n",
       "      <td>2</td>\n",
       "      <td>2</td>\n",
       "      <td>2</td>\n",
       "      <td>30</td>\n",
       "      <td>0</td>\n",
       "      <td>0</td>\n",
       "      <td>0</td>\n",
       "      <td>0</td>\n",
       "      <td>0</td>\n",
       "      <td>...</td>\n",
       "      <td>14331</td>\n",
       "      <td>14948</td>\n",
       "      <td>15549</td>\n",
       "      <td>1518</td>\n",
       "      <td>1500</td>\n",
       "      <td>1000</td>\n",
       "      <td>1000</td>\n",
       "      <td>1000</td>\n",
       "      <td>5000</td>\n",
       "      <td>0</td>\n",
       "    </tr>\n",
       "    <tr>\n",
       "      <th>3</th>\n",
       "      <td>50000</td>\n",
       "      <td>2</td>\n",
       "      <td>2</td>\n",
       "      <td>1</td>\n",
       "      <td>30</td>\n",
       "      <td>0</td>\n",
       "      <td>0</td>\n",
       "      <td>0</td>\n",
       "      <td>0</td>\n",
       "      <td>0</td>\n",
       "      <td>...</td>\n",
       "      <td>28314</td>\n",
       "      <td>28959</td>\n",
       "      <td>29547</td>\n",
       "      <td>2000</td>\n",
       "      <td>2019</td>\n",
       "      <td>1200</td>\n",
       "      <td>1100</td>\n",
       "      <td>1069</td>\n",
       "      <td>1000</td>\n",
       "      <td>0</td>\n",
       "    </tr>\n",
       "    <tr>\n",
       "      <th>4</th>\n",
       "      <td>50000</td>\n",
       "      <td>1</td>\n",
       "      <td>2</td>\n",
       "      <td>1</td>\n",
       "      <td>50</td>\n",
       "      <td>-1</td>\n",
       "      <td>0</td>\n",
       "      <td>-1</td>\n",
       "      <td>0</td>\n",
       "      <td>0</td>\n",
       "      <td>...</td>\n",
       "      <td>20940</td>\n",
       "      <td>19146</td>\n",
       "      <td>19131</td>\n",
       "      <td>2000</td>\n",
       "      <td>36681</td>\n",
       "      <td>10000</td>\n",
       "      <td>9000</td>\n",
       "      <td>689</td>\n",
       "      <td>679</td>\n",
       "      <td>0</td>\n",
       "    </tr>\n",
       "  </tbody>\n",
       "</table>\n",
       "<p>5 rows × 24 columns</p>\n",
       "</div>"
      ],
      "text/plain": [
       "   LIMIT_BAL  SEX  EDUCATION  MARRIAGE  AGE_BIN  PAY_0  PAY_2  PAY_3  PAY_4  \\\n",
       "0      20000    2          2         1       20      2      2     -1     -1   \n",
       "1     120000    2          2         2       20     -1      2      0      0   \n",
       "2      90000    2          2         2       30      0      0      0      0   \n",
       "3      50000    2          2         1       30      0      0      0      0   \n",
       "4      50000    1          2         1       50     -1      0     -1      0   \n",
       "\n",
       "   PAY_5   ...     BILL_AMT4  BILL_AMT5  BILL_AMT6  PAY_AMT1  PAY_AMT2  \\\n",
       "0     -2   ...             0          0          0         0       689   \n",
       "1      0   ...          3272       3455       3261         0      1000   \n",
       "2      0   ...         14331      14948      15549      1518      1500   \n",
       "3      0   ...         28314      28959      29547      2000      2019   \n",
       "4      0   ...         20940      19146      19131      2000     36681   \n",
       "\n",
       "   PAY_AMT3  PAY_AMT4  PAY_AMT5  PAY_AMT6  DEFAULT  \n",
       "0         0         0         0         0        1  \n",
       "1      1000      1000         0      2000        1  \n",
       "2      1000      1000      1000      5000        0  \n",
       "3      1200      1100      1069      1000        0  \n",
       "4     10000      9000       689       679        0  \n",
       "\n",
       "[5 rows x 24 columns]"
      ]
     },
     "execution_count": 3,
     "metadata": {},
     "output_type": "execute_result"
    }
   ],
   "source": [
    "## import cleaned data\n",
    "credit_raw = pd.read_csv(\"default of credit card clients cleaned.csv\", header = 0)\n",
    "credit_raw.head()"
   ]
  },
  {
   "cell_type": "code",
   "execution_count": 4,
   "metadata": {},
   "outputs": [
    {
     "name": "stdout",
     "output_type": "stream",
     "text": [
      "<class 'pandas.core.frame.DataFrame'>\n",
      "RangeIndex: 30000 entries, 0 to 29999\n",
      "Data columns (total 24 columns):\n",
      "LIMIT_BAL    30000 non-null int64\n",
      "SEX          30000 non-null int64\n",
      "EDUCATION    30000 non-null int64\n",
      "MARRIAGE     30000 non-null int64\n",
      "AGE_BIN      30000 non-null int64\n",
      "PAY_0        30000 non-null int64\n",
      "PAY_2        30000 non-null int64\n",
      "PAY_3        30000 non-null int64\n",
      "PAY_4        30000 non-null int64\n",
      "PAY_5        30000 non-null int64\n",
      "PAY_6        30000 non-null int64\n",
      "BILL_AMT1    30000 non-null int64\n",
      "BILL_AMT2    30000 non-null int64\n",
      "BILL_AMT3    30000 non-null int64\n",
      "BILL_AMT4    30000 non-null int64\n",
      "BILL_AMT5    30000 non-null int64\n",
      "BILL_AMT6    30000 non-null int64\n",
      "PAY_AMT1     30000 non-null int64\n",
      "PAY_AMT2     30000 non-null int64\n",
      "PAY_AMT3     30000 non-null int64\n",
      "PAY_AMT4     30000 non-null int64\n",
      "PAY_AMT5     30000 non-null int64\n",
      "PAY_AMT6     30000 non-null int64\n",
      "DEFAULT      30000 non-null int64\n",
      "dtypes: int64(24)\n",
      "memory usage: 5.5 MB\n"
     ]
    }
   ],
   "source": [
    "credit_raw.info()"
   ]
  },
  {
   "cell_type": "code",
   "execution_count": 5,
   "metadata": {},
   "outputs": [
    {
     "name": "stdout",
     "output_type": "stream",
     "text": [
      "summary of feature sample\n"
     ]
    },
    {
     "data": {
      "text/html": [
       "<div>\n",
       "<style scoped>\n",
       "    .dataframe tbody tr th:only-of-type {\n",
       "        vertical-align: middle;\n",
       "    }\n",
       "\n",
       "    .dataframe tbody tr th {\n",
       "        vertical-align: top;\n",
       "    }\n",
       "\n",
       "    .dataframe thead th {\n",
       "        text-align: right;\n",
       "    }\n",
       "</style>\n",
       "<table border=\"1\" class=\"dataframe\">\n",
       "  <thead>\n",
       "    <tr style=\"text-align: right;\">\n",
       "      <th></th>\n",
       "      <th>LIMIT_BAL</th>\n",
       "      <th>SEX</th>\n",
       "      <th>EDUCATION</th>\n",
       "      <th>MARRIAGE</th>\n",
       "      <th>AGE_BIN</th>\n",
       "      <th>PAY_0</th>\n",
       "      <th>PAY_2</th>\n",
       "      <th>PAY_3</th>\n",
       "      <th>PAY_4</th>\n",
       "      <th>PAY_5</th>\n",
       "      <th>...</th>\n",
       "      <th>BILL_AMT3</th>\n",
       "      <th>BILL_AMT4</th>\n",
       "      <th>BILL_AMT5</th>\n",
       "      <th>BILL_AMT6</th>\n",
       "      <th>PAY_AMT1</th>\n",
       "      <th>PAY_AMT2</th>\n",
       "      <th>PAY_AMT3</th>\n",
       "      <th>PAY_AMT4</th>\n",
       "      <th>PAY_AMT5</th>\n",
       "      <th>PAY_AMT6</th>\n",
       "    </tr>\n",
       "  </thead>\n",
       "  <tbody>\n",
       "    <tr>\n",
       "      <th>0</th>\n",
       "      <td>20000</td>\n",
       "      <td>2</td>\n",
       "      <td>2</td>\n",
       "      <td>1</td>\n",
       "      <td>20</td>\n",
       "      <td>2</td>\n",
       "      <td>2</td>\n",
       "      <td>-1</td>\n",
       "      <td>-1</td>\n",
       "      <td>-2</td>\n",
       "      <td>...</td>\n",
       "      <td>689</td>\n",
       "      <td>0</td>\n",
       "      <td>0</td>\n",
       "      <td>0</td>\n",
       "      <td>0</td>\n",
       "      <td>689</td>\n",
       "      <td>0</td>\n",
       "      <td>0</td>\n",
       "      <td>0</td>\n",
       "      <td>0</td>\n",
       "    </tr>\n",
       "    <tr>\n",
       "      <th>1</th>\n",
       "      <td>120000</td>\n",
       "      <td>2</td>\n",
       "      <td>2</td>\n",
       "      <td>2</td>\n",
       "      <td>20</td>\n",
       "      <td>-1</td>\n",
       "      <td>2</td>\n",
       "      <td>0</td>\n",
       "      <td>0</td>\n",
       "      <td>0</td>\n",
       "      <td>...</td>\n",
       "      <td>2682</td>\n",
       "      <td>3272</td>\n",
       "      <td>3455</td>\n",
       "      <td>3261</td>\n",
       "      <td>0</td>\n",
       "      <td>1000</td>\n",
       "      <td>1000</td>\n",
       "      <td>1000</td>\n",
       "      <td>0</td>\n",
       "      <td>2000</td>\n",
       "    </tr>\n",
       "    <tr>\n",
       "      <th>2</th>\n",
       "      <td>90000</td>\n",
       "      <td>2</td>\n",
       "      <td>2</td>\n",
       "      <td>2</td>\n",
       "      <td>30</td>\n",
       "      <td>0</td>\n",
       "      <td>0</td>\n",
       "      <td>0</td>\n",
       "      <td>0</td>\n",
       "      <td>0</td>\n",
       "      <td>...</td>\n",
       "      <td>13559</td>\n",
       "      <td>14331</td>\n",
       "      <td>14948</td>\n",
       "      <td>15549</td>\n",
       "      <td>1518</td>\n",
       "      <td>1500</td>\n",
       "      <td>1000</td>\n",
       "      <td>1000</td>\n",
       "      <td>1000</td>\n",
       "      <td>5000</td>\n",
       "    </tr>\n",
       "    <tr>\n",
       "      <th>3</th>\n",
       "      <td>50000</td>\n",
       "      <td>2</td>\n",
       "      <td>2</td>\n",
       "      <td>1</td>\n",
       "      <td>30</td>\n",
       "      <td>0</td>\n",
       "      <td>0</td>\n",
       "      <td>0</td>\n",
       "      <td>0</td>\n",
       "      <td>0</td>\n",
       "      <td>...</td>\n",
       "      <td>49291</td>\n",
       "      <td>28314</td>\n",
       "      <td>28959</td>\n",
       "      <td>29547</td>\n",
       "      <td>2000</td>\n",
       "      <td>2019</td>\n",
       "      <td>1200</td>\n",
       "      <td>1100</td>\n",
       "      <td>1069</td>\n",
       "      <td>1000</td>\n",
       "    </tr>\n",
       "    <tr>\n",
       "      <th>4</th>\n",
       "      <td>50000</td>\n",
       "      <td>1</td>\n",
       "      <td>2</td>\n",
       "      <td>1</td>\n",
       "      <td>50</td>\n",
       "      <td>-1</td>\n",
       "      <td>0</td>\n",
       "      <td>-1</td>\n",
       "      <td>0</td>\n",
       "      <td>0</td>\n",
       "      <td>...</td>\n",
       "      <td>35835</td>\n",
       "      <td>20940</td>\n",
       "      <td>19146</td>\n",
       "      <td>19131</td>\n",
       "      <td>2000</td>\n",
       "      <td>36681</td>\n",
       "      <td>10000</td>\n",
       "      <td>9000</td>\n",
       "      <td>689</td>\n",
       "      <td>679</td>\n",
       "    </tr>\n",
       "  </tbody>\n",
       "</table>\n",
       "<p>5 rows × 23 columns</p>\n",
       "</div>"
      ],
      "text/plain": [
       "   LIMIT_BAL  SEX  EDUCATION  MARRIAGE  AGE_BIN  PAY_0  PAY_2  PAY_3  PAY_4  \\\n",
       "0      20000    2          2         1       20      2      2     -1     -1   \n",
       "1     120000    2          2         2       20     -1      2      0      0   \n",
       "2      90000    2          2         2       30      0      0      0      0   \n",
       "3      50000    2          2         1       30      0      0      0      0   \n",
       "4      50000    1          2         1       50     -1      0     -1      0   \n",
       "\n",
       "   PAY_5    ...     BILL_AMT3  BILL_AMT4  BILL_AMT5  BILL_AMT6  PAY_AMT1  \\\n",
       "0     -2    ...           689          0          0          0         0   \n",
       "1      0    ...          2682       3272       3455       3261         0   \n",
       "2      0    ...         13559      14331      14948      15549      1518   \n",
       "3      0    ...         49291      28314      28959      29547      2000   \n",
       "4      0    ...         35835      20940      19146      19131      2000   \n",
       "\n",
       "   PAY_AMT2  PAY_AMT3  PAY_AMT4  PAY_AMT5  PAY_AMT6  \n",
       "0       689         0         0         0         0  \n",
       "1      1000      1000      1000         0      2000  \n",
       "2      1500      1000      1000      1000      5000  \n",
       "3      2019      1200      1100      1069      1000  \n",
       "4     36681     10000      9000       689       679  \n",
       "\n",
       "[5 rows x 23 columns]"
      ]
     },
     "execution_count": 5,
     "metadata": {},
     "output_type": "execute_result"
    }
   ],
   "source": [
    "# feature\n",
    "features = credit_raw.iloc[:,0:23]\n",
    "print(\"summary of feature sample\")\n",
    "features.head()"
   ]
  },
  {
   "cell_type": "code",
   "execution_count": 6,
   "metadata": {},
   "outputs": [
    {
     "data": {
      "text/plain": [
       "0    1\n",
       "1    1\n",
       "2    0\n",
       "3    0\n",
       "4    0\n",
       "Name: DEFAULT, dtype: int64"
      ]
     },
     "execution_count": 6,
     "metadata": {},
     "output_type": "execute_result"
    }
   ],
   "source": [
    "## dependent variable\n",
    "depVar = credit_raw['DEFAULT']\n",
    "depVar.head()"
   ]
  },
  {
   "cell_type": "code",
   "execution_count": 7,
   "metadata": {},
   "outputs": [],
   "source": [
    "## Training set 1 (as is)\n",
    "X_train1 = features\n",
    "y_train1 = depVar"
   ]
  },
  {
   "cell_type": "code",
   "execution_count": 8,
   "metadata": {},
   "outputs": [],
   "source": [
    "## use train_test_split\n",
    "X_train1, X_test1, y_train1, y_test1 = train_test_split(X_train1, y_train1, test_size = 0.3 )"
   ]
  },
  {
   "cell_type": "code",
   "execution_count": 9,
   "metadata": {},
   "outputs": [
    {
     "name": "stdout",
     "output_type": "stream",
     "text": [
      "(21000, 23) (9000, 23)\n",
      "(21000,) (9000,)\n"
     ]
    }
   ],
   "source": [
    "## examine that we have the right split\n",
    "print(X_train1.shape, X_test1.shape)\n",
    "print(y_train1.shape, y_test1.shape)"
   ]
  },
  {
   "cell_type": "markdown",
   "metadata": {},
   "source": [
    "## Build and Train Model"
   ]
  },
  {
   "cell_type": "code",
   "execution_count": 11,
   "metadata": {},
   "outputs": [],
   "source": [
    "## Models\n",
    "SVM = SVC()\n",
    "RF = RandomForestClassifier(n_jobs = 7)\n",
    "kNN = KNeighborsClassifier(n_jobs = 7)\n",
    "GBM= GradientBoostingClassifier()\n",
    "NN = MLPClassifier()"
   ]
  },
  {
   "cell_type": "markdown",
   "metadata": {},
   "source": [
    "### kNN"
   ]
  },
  {
   "cell_type": "code",
   "execution_count": 15,
   "metadata": {},
   "outputs": [],
   "source": [
    "## Gridsearch parameters for kNN\n",
    "kNN_param = {\n",
    "    'n_neighbors' : [5,10,20]\n",
    "}\n",
    "## type of scoring used to compare parameter combinations\n",
    "acc_scorer = make_scorer(accuracy_score)\n",
    "## run the grid search\n",
    "kNN_grid = GridSearchCV(estimator = kNN, param_grid = kNN_param, return_train_score = True, cv=10)\n",
    "kNN_grid = kNN_grid.fit(X_train1, y_train1)"
   ]
  },
  {
   "cell_type": "code",
   "execution_count": 16,
   "metadata": {},
   "outputs": [
    {
     "data": {
      "text/plain": [
       "{'mean_fit_time': array([0.03887808, 0.04996822, 0.09254668]),\n",
       " 'std_fit_time': array([0.00181216, 0.00237031, 0.01687944]),\n",
       " 'mean_score_time': array([0.10436857, 0.10433986, 0.11553512]),\n",
       " 'std_score_time': array([0.00049304, 0.00048768, 0.03045705]),\n",
       " 'param_n_neighbors': masked_array(data=[5, 10, 20],\n",
       "              mask=[False, False, False],\n",
       "        fill_value='?',\n",
       "             dtype=object),\n",
       " 'params': [{'n_neighbors': 5}, {'n_neighbors': 10}, {'n_neighbors': 20}],\n",
       " 'split0_test_score': array([0.7591623 , 0.78486435, 0.7829605 ]),\n",
       " 'split1_test_score': array([0.75380952, 0.77714286, 0.7752381 ]),\n",
       " 'split2_test_score': array([0.75761905, 0.78190476, 0.77904762]),\n",
       " 'split3_test_score': array([0.76809524, 0.78619048, 0.78190476]),\n",
       " 'split4_test_score': array([0.74952381, 0.77380952, 0.77761905]),\n",
       " 'split5_test_score': array([0.73761905, 0.76142857, 0.77571429]),\n",
       " 'split6_test_score': array([0.75619048, 0.77333333, 0.77666667]),\n",
       " 'split7_test_score': array([0.75857143, 0.78142857, 0.78571429]),\n",
       " 'split8_test_score': array([0.75285714, 0.77904762, 0.78095238]),\n",
       " 'split9_test_score': array([0.75226298, 0.77656027, 0.7775131 ]),\n",
       " 'mean_test_score': array([0.75457143, 0.77757143, 0.77933333]),\n",
       " 'std_test_score': array([0.0074404 , 0.00676199, 0.00326227]),\n",
       " 'rank_test_score': array([3, 2, 1]),\n",
       " 'split0_train_score': array([0.81618075, 0.79453939, 0.78887772]),\n",
       " 'split1_train_score': array([0.81846561, 0.79534392, 0.7889418 ]),\n",
       " 'split2_train_score': array([0.81756614, 0.79571429, 0.78825397]),\n",
       " 'split3_train_score': array([0.81634921, 0.79428571, 0.78798942]),\n",
       " 'split4_train_score': array([0.81761905, 0.79513228, 0.78936508]),\n",
       " 'split5_train_score': array([0.81931217, 0.79597884, 0.78925926]),\n",
       " 'split6_train_score': array([0.81867725, 0.79613757, 0.78830688]),\n",
       " 'split7_train_score': array([0.81698413, 0.79513228, 0.78751323]),\n",
       " 'split8_train_score': array([0.8189418 , 0.79613757, 0.78835979]),\n",
       " 'split9_train_score': array([0.81741707, 0.79609544, 0.78800063]),\n",
       " 'mean_train_score': array([0.81775132, 0.79544973, 0.78848678]),\n",
       " 'std_train_score': array([0.00102009, 0.00064106, 0.00057116])}"
      ]
     },
     "execution_count": 16,
     "metadata": {},
     "output_type": "execute_result"
    }
   ],
   "source": [
    "## Examine best parameters\n",
    "kNN_grid.cv_results_"
   ]
  },
  {
   "cell_type": "code",
   "execution_count": 17,
   "metadata": {},
   "outputs": [],
   "source": [
    "## set the classifier to best combination of parameters\n",
    "kNN = kNN_grid.best_estimator_"
   ]
  },
  {
   "cell_type": "code",
   "execution_count": 18,
   "metadata": {},
   "outputs": [
    {
     "data": {
      "text/plain": [
       "KNeighborsClassifier(algorithm='auto', leaf_size=30, metric='minkowski',\n",
       "           metric_params=None, n_jobs=7, n_neighbors=20, p=2,\n",
       "           weights='uniform')"
      ]
     },
     "execution_count": 18,
     "metadata": {},
     "output_type": "execute_result"
    }
   ],
   "source": [
    "## Fit best algorithm to the data\n",
    "kNN.fit(X_train1, y_train1)"
   ]
  },
  {
   "cell_type": "code",
   "execution_count": 19,
   "metadata": {},
   "outputs": [
    {
     "name": "stdout",
     "output_type": "stream",
     "text": [
      "0.7793330739336416\n"
     ]
    }
   ],
   "source": [
    "## kNN mean accuray from 10-fold CV\n",
    "scores = cross_val_score(kNN, X_train1, y_train1, cv=10)\n",
    "print(scores.mean())"
   ]
  },
  {
   "cell_type": "code",
   "execution_count": 20,
   "metadata": {},
   "outputs": [
    {
     "name": "stdout",
     "output_type": "stream",
     "text": [
      "0.7753333333333333\n",
      "             precision    recall  f1-score   support\n",
      "\n",
      "          0       0.78      0.98      0.87      6955\n",
      "          1       0.53      0.09      0.15      2045\n",
      "\n",
      "avg / total       0.73      0.78      0.71      9000\n",
      "\n"
     ]
    }
   ],
   "source": [
    "## kNN Prediction on Test Set\n",
    "kNNpred = kNN.predict(X_test1)\n",
    "print(accuracy_score(y_test1,kNNpred))\n",
    "print(classification_report(y_test1, kNNpred))"
   ]
  },
  {
   "cell_type": "markdown",
   "metadata": {},
   "source": [
    "### Random Forest"
   ]
  },
  {
   "cell_type": "code",
   "execution_count": 23,
   "metadata": {},
   "outputs": [],
   "source": [
    "## Gridsearch parameters for RF\n",
    "RF_param = {\n",
    "    'n_estimators' : [10,20,30],\n",
    "    'max_features' : ['auto', 'sqrt', 'log2']\n",
    "}\n",
    "## type of scoring used to compare parameter combinations\n",
    "acc_scorer = make_scorer(accuracy_score)\n",
    "## run the grid search\n",
    "RF_grid = GridSearchCV(estimator = RF, param_grid = RF_param, return_train_score = True, cv=10)\n",
    "RF_grid = RF_grid.fit(X_train1, y_train1)"
   ]
  },
  {
   "cell_type": "code",
   "execution_count": 24,
   "metadata": {},
   "outputs": [
    {
     "data": {
      "text/plain": [
       "{'mean_fit_time': array([0.21702232, 0.22396832, 0.34092455, 0.22041495, 0.3437459 ,\n",
       "        0.55278494, 0.22081182, 0.35389955, 0.48795571]),\n",
       " 'std_fit_time': array([0.00066045, 0.00104553, 0.03033365, 0.00594264, 0.03771218,\n",
       "        0.06959531, 0.00117322, 0.04627926, 0.06000481]),\n",
       " 'mean_score_time': array([0.10386128, 0.1030793 , 0.10305192, 0.10354786, 0.10416365,\n",
       "        0.10388913, 0.10389163, 0.10406294, 0.10380609]),\n",
       " 'std_score_time': array([0.00030725, 0.00011386, 0.00046786, 0.00050369, 0.00066621,\n",
       "        0.00075842, 0.00042066, 0.00053331, 0.00037751]),\n",
       " 'param_max_features': masked_array(data=['auto', 'auto', 'auto', 'sqrt', 'sqrt', 'sqrt', 'log2',\n",
       "                    'log2', 'log2'],\n",
       "              mask=[False, False, False, False, False, False, False, False,\n",
       "                    False],\n",
       "        fill_value='?',\n",
       "             dtype=object),\n",
       " 'param_n_estimators': masked_array(data=[10, 20, 30, 10, 20, 30, 10, 20, 30],\n",
       "              mask=[False, False, False, False, False, False, False, False,\n",
       "                    False],\n",
       "        fill_value='?',\n",
       "             dtype=object),\n",
       " 'params': [{'max_features': 'auto', 'n_estimators': 10},\n",
       "  {'max_features': 'auto', 'n_estimators': 20},\n",
       "  {'max_features': 'auto', 'n_estimators': 30},\n",
       "  {'max_features': 'sqrt', 'n_estimators': 10},\n",
       "  {'max_features': 'sqrt', 'n_estimators': 20},\n",
       "  {'max_features': 'sqrt', 'n_estimators': 30},\n",
       "  {'max_features': 'log2', 'n_estimators': 10},\n",
       "  {'max_features': 'log2', 'n_estimators': 20},\n",
       "  {'max_features': 'log2', 'n_estimators': 30}],\n",
       " 'split0_test_score': array([0.82008567, 0.81247025, 0.82246549, 0.80580676, 0.81675393,\n",
       "        0.81865778, 0.81485007, 0.81247025, 0.81722989]),\n",
       " 'split1_test_score': array([0.7947619 , 0.8047619 , 0.80190476, 0.78904762, 0.79666667,\n",
       "        0.80190476, 0.79666667, 0.7947619 , 0.80285714]),\n",
       " 'split2_test_score': array([0.81142857, 0.82428571, 0.82857143, 0.81333333, 0.81619048,\n",
       "        0.82714286, 0.81952381, 0.81952381, 0.82714286]),\n",
       " 'split3_test_score': array([0.8052381 , 0.81285714, 0.83190476, 0.8152381 , 0.81428571,\n",
       "        0.82571429, 0.80904762, 0.82619048, 0.82761905]),\n",
       " 'split4_test_score': array([0.80333333, 0.80714286, 0.81380952, 0.79952381, 0.80666667,\n",
       "        0.81285714, 0.80714286, 0.80857143, 0.81333333]),\n",
       " 'split5_test_score': array([0.79333333, 0.80238095, 0.81095238, 0.80142857, 0.80904762,\n",
       "        0.80857143, 0.79238095, 0.80571429, 0.81285714]),\n",
       " 'split6_test_score': array([0.8052381 , 0.8147619 , 0.81047619, 0.80809524, 0.8147619 ,\n",
       "        0.82      , 0.81142857, 0.81619048, 0.8152381 ]),\n",
       " 'split7_test_score': array([0.79904762, 0.81      , 0.81285714, 0.8       , 0.80619048,\n",
       "        0.81142857, 0.80666667, 0.81047619, 0.81      ]),\n",
       " 'split8_test_score': array([0.8052381 , 0.8152381 , 0.81904762, 0.80095238, 0.81666667,\n",
       "        0.81428571, 0.80809524, 0.81285714, 0.81238095]),\n",
       " 'split9_test_score': array([0.80705098, 0.80705098, 0.81610291, 0.79228204, 0.81467365,\n",
       "        0.80657456, 0.80943306, 0.81515007, 0.80990948]),\n",
       " 'mean_test_score': array([0.80447619, 0.81109524, 0.81680952, 0.80257143, 0.81119048,\n",
       "        0.81471429, 0.80752381, 0.81219048, 0.81485714]),\n",
       " 'std_test_score': array([0.00741473, 0.00599009, 0.00851418, 0.00791069, 0.00617588,\n",
       "        0.00775524, 0.00753195, 0.0079799 , 0.00723945]),\n",
       " 'rank_test_score': array([8, 6, 1, 9, 5, 3, 7, 4, 2]),\n",
       " 'split0_train_score': array([0.97804117, 0.99116355, 0.99502619, 0.97857029, 0.99126938,\n",
       "        0.99529076, 0.97872903, 0.99185142, 0.99555532]),\n",
       " 'split1_train_score': array([0.97825397, 0.99259259, 0.99502646, 0.97941799, 0.99174603,\n",
       "        0.99481481, 0.97904762, 0.99164021, 0.99550265]),\n",
       " 'split2_train_score': array([0.9773545 , 0.99216931, 0.99507937, 0.97809524, 0.99195767,\n",
       "        0.99502646, 0.97814815, 0.99126984, 0.99555556]),\n",
       " 'split3_train_score': array([0.9789418 , 0.99116402, 0.99529101, 0.98021164, 0.99201058,\n",
       "        0.99497354, 0.97809524, 0.99132275, 0.99513228]),\n",
       " 'split4_train_score': array([0.97952381, 0.9915873 , 0.99550265, 0.97820106, 0.99195767,\n",
       "        0.99539683, 0.97756614, 0.99095238, 0.99539683]),\n",
       " 'split5_train_score': array([0.97751323, 0.99195767, 0.99497354, 0.97830688, 0.99021164,\n",
       "        0.99518519, 0.9784127 , 0.99079365, 0.99417989]),\n",
       " 'split6_train_score': array([0.98005291, 0.99121693, 0.9952381 , 0.97693122, 0.99084656,\n",
       "        0.99497354, 0.97698413, 0.99174603, 0.99492063]),\n",
       " 'split7_train_score': array([0.97724868, 0.9915873 , 0.99539683, 0.97772487, 0.99126984,\n",
       "        0.99507937, 0.97798942, 0.99148148, 0.99534392]),\n",
       " 'split8_train_score': array([0.97767196, 0.99142857, 0.99492063, 0.97952381, 0.99142857,\n",
       "        0.99597884, 0.97830688, 0.99010582, 0.99455026]),\n",
       " 'split9_train_score': array([0.97841384, 0.99063542, 0.9956087 , 0.97926036, 0.99164065,\n",
       "        0.99513253, 0.97915454, 0.99037088, 0.99507963]),\n",
       " 'mean_train_score': array([0.97830159, 0.99155027, 0.99520635, 0.97862433, 0.99143386,\n",
       "        0.99518519, 0.97824338, 0.99115345, 0.9951217 ]),\n",
       " 'std_train_score': array([0.00089872, 0.00053852, 0.00022603, 0.00092744, 0.00053984,\n",
       "        0.0003085 , 0.00062333, 0.00055722, 0.00043615])}"
      ]
     },
     "execution_count": 24,
     "metadata": {},
     "output_type": "execute_result"
    }
   ],
   "source": [
    "## Examine best parameters\n",
    "RF_grid.cv_results_"
   ]
  },
  {
   "cell_type": "code",
   "execution_count": 25,
   "metadata": {},
   "outputs": [],
   "source": [
    "## set the classifier to best combination of parameters\n",
    "RF = RF_grid.best_estimator_"
   ]
  },
  {
   "cell_type": "code",
   "execution_count": 26,
   "metadata": {},
   "outputs": [
    {
     "data": {
      "text/plain": [
       "RandomForestClassifier(bootstrap=True, class_weight=None, criterion='gini',\n",
       "            max_depth=None, max_features='auto', max_leaf_nodes=None,\n",
       "            min_impurity_decrease=0.0, min_impurity_split=None,\n",
       "            min_samples_leaf=1, min_samples_split=2,\n",
       "            min_weight_fraction_leaf=0.0, n_estimators=30, n_jobs=7,\n",
       "            oob_score=False, random_state=None, verbose=0,\n",
       "            warm_start=False)"
      ]
     },
     "execution_count": 26,
     "metadata": {},
     "output_type": "execute_result"
    }
   ],
   "source": [
    "## Fit best algorithm to the data\n",
    "RF.fit(X_train1, y_train1)"
   ]
  },
  {
   "cell_type": "code",
   "execution_count": 27,
   "metadata": {},
   "outputs": [
    {
     "name": "stdout",
     "output_type": "stream",
     "text": [
      "0.8128099009934988\n"
     ]
    }
   ],
   "source": [
    "## RF mean accuray from 10-fold CV\n",
    "scores = cross_val_score(RF, X_train1, y_train1, cv=10)\n",
    "print(scores.mean())"
   ]
  },
  {
   "cell_type": "code",
   "execution_count": 28,
   "metadata": {},
   "outputs": [
    {
     "name": "stdout",
     "output_type": "stream",
     "text": [
      "0.8084444444444444\n",
      "             precision    recall  f1-score   support\n",
      "\n",
      "          0       0.83      0.94      0.88      6955\n",
      "          1       0.64      0.36      0.46      2045\n",
      "\n",
      "avg / total       0.79      0.81      0.79      9000\n",
      "\n"
     ]
    }
   ],
   "source": [
    "## RF Prediction on Test Set\n",
    "RFpred = RF.predict(X_test1)\n",
    "print(accuracy_score(y_test1,RFpred))\n",
    "print(classification_report(y_test1, RFpred))"
   ]
  },
  {
   "cell_type": "markdown",
   "metadata": {},
   "source": [
    "### GBM"
   ]
  },
  {
   "cell_type": "code",
   "execution_count": 29,
   "metadata": {},
   "outputs": [],
   "source": [
    "## Gridsearch parameters for GBM\n",
    "GBM_param = {\n",
    "    'n_estimators' : [100,200,300],\n",
    "    'learning_rate' : [0.1,0.5]\n",
    "}\n",
    "## type of scoring used to compare parameter combinations\n",
    "acc_scorer = make_scorer(accuracy_score)\n",
    "## run the grid search\n",
    "GBM_grid = GridSearchCV(estimator = GBM, param_grid = GBM_param, return_train_score = True, cv=10)\n",
    "GBM_grid = GBM_grid.fit(X_train1, y_train1)"
   ]
  },
  {
   "cell_type": "code",
   "execution_count": 30,
   "metadata": {},
   "outputs": [
    {
     "data": {
      "text/plain": [
       "{'mean_fit_time': array([3.37478256, 5.91818836, 8.4555877 , 2.80999603, 5.83340104,\n",
       "        8.35155025]),\n",
       " 'std_fit_time': array([0.63215339, 0.48802168, 0.36239344, 0.07086214, 0.32766294,\n",
       "        0.1082092 ]),\n",
       " 'mean_score_time': array([0.00509689, 0.00878563, 0.00734873, 0.00156236, 0.00784872,\n",
       "        0.0093739 ]),\n",
       " 'std_score_time': array([0.00083036, 0.00546949, 0.00746447, 0.00468707, 0.00700193,\n",
       "        0.00765376]),\n",
       " 'param_learning_rate': masked_array(data=[0.1, 0.1, 0.1, 0.5, 0.5, 0.5],\n",
       "              mask=[False, False, False, False, False, False],\n",
       "        fill_value='?',\n",
       "             dtype=object),\n",
       " 'param_n_estimators': masked_array(data=[100, 200, 300, 100, 200, 300],\n",
       "              mask=[False, False, False, False, False, False],\n",
       "        fill_value='?',\n",
       "             dtype=object),\n",
       " 'params': [{'learning_rate': 0.1, 'n_estimators': 100},\n",
       "  {'learning_rate': 0.1, 'n_estimators': 200},\n",
       "  {'learning_rate': 0.1, 'n_estimators': 300},\n",
       "  {'learning_rate': 0.5, 'n_estimators': 100},\n",
       "  {'learning_rate': 0.5, 'n_estimators': 200},\n",
       "  {'learning_rate': 0.5, 'n_estimators': 300}],\n",
       " 'split0_test_score': array([0.8210376 , 0.81960971, 0.81818182, 0.81389814, 0.80961447,\n",
       "        0.80628272]),\n",
       " 'split1_test_score': array([0.81809524, 0.81380952, 0.81285714, 0.79952381, 0.78761905,\n",
       "        0.77952381]),\n",
       " 'split2_test_score': array([0.83190476, 0.8347619 , 0.83238095, 0.82380952, 0.81761905,\n",
       "        0.80809524]),\n",
       " 'split3_test_score': array([0.83666667, 0.8347619 , 0.83190476, 0.81761905, 0.80857143,\n",
       "        0.80904762]),\n",
       " 'split4_test_score': array([0.82285714, 0.82142857, 0.81904762, 0.81714286, 0.80761905,\n",
       "        0.80428571]),\n",
       " 'split5_test_score': array([0.81333333, 0.81238095, 0.81095238, 0.81047619, 0.80761905,\n",
       "        0.80380952]),\n",
       " 'split6_test_score': array([0.82904762, 0.82619048, 0.82666667, 0.80857143, 0.8047619 ,\n",
       "        0.79904762]),\n",
       " 'split7_test_score': array([0.81809524, 0.81666667, 0.81619048, 0.80428571, 0.80047619,\n",
       "        0.79857143]),\n",
       " 'split8_test_score': array([0.81761905, 0.81809524, 0.81619048, 0.8052381 , 0.80761905,\n",
       "        0.80666667]),\n",
       " 'split9_test_score': array([0.82658409, 0.82324917, 0.82086708, 0.81467365, 0.80848023,\n",
       "        0.80371606]),\n",
       " 'mean_test_score': array([0.82352381, 0.82209524, 0.82052381, 0.81152381, 0.806     ,\n",
       "        0.80190476]),\n",
       " 'std_test_score': array([0.00697945, 0.00744383, 0.00709636, 0.00693495, 0.00733895,\n",
       "        0.00814832]),\n",
       " 'rank_test_score': array([1, 2, 3, 4, 5, 6]),\n",
       " 'split0_train_score': array([0.83020266, 0.83517646, 0.83893328, 0.84962167, 0.87353828,\n",
       "        0.89115826]),\n",
       " 'split1_train_score': array([0.83021164, 0.83460317, 0.83888889, 0.85121693, 0.87243386,\n",
       "        0.89365079]),\n",
       " 'split2_train_score': array([0.82878307, 0.83243386, 0.83613757, 0.84878307, 0.86941799,\n",
       "        0.88962963]),\n",
       " 'split3_train_score': array([0.82873016, 0.83285714, 0.8378836 , 0.85100529, 0.87296296,\n",
       "        0.89190476]),\n",
       " 'split4_train_score': array([0.83116402, 0.83518519, 0.83899471, 0.85148148, 0.8731746 ,\n",
       "        0.89100529]),\n",
       " 'split5_train_score': array([0.83100529, 0.83518519, 0.83936508, 0.85021164, 0.8731746 ,\n",
       "        0.89248677]),\n",
       " 'split6_train_score': array([0.83015873, 0.83529101, 0.83814815, 0.84978836, 0.87248677,\n",
       "        0.89185185]),\n",
       " 'split7_train_score': array([0.82968254, 0.83449735, 0.83904762, 0.84952381, 0.87153439,\n",
       "        0.8926455 ]),\n",
       " 'split8_train_score': array([0.83021164, 0.83412698, 0.83888889, 0.84904762, 0.87312169,\n",
       "        0.89095238]),\n",
       " 'split9_train_score': array([0.83064388, 0.83503518, 0.83932067, 0.84990212, 0.87228189,\n",
       "        0.89286281]),\n",
       " 'mean_train_score': array([0.83007936, 0.83443915, 0.83856084, 0.8500582 , 0.87241271,\n",
       "        0.89181481]),\n",
       " 'std_train_score': array([0.00077892, 0.00096899, 0.0009222 , 0.00086657, 0.00114001,\n",
       "        0.00110568])}"
      ]
     },
     "execution_count": 30,
     "metadata": {},
     "output_type": "execute_result"
    }
   ],
   "source": [
    "## Examine best parameters\n",
    "GBM_grid.cv_results_"
   ]
  },
  {
   "cell_type": "code",
   "execution_count": 31,
   "metadata": {},
   "outputs": [],
   "source": [
    "## set the classifier to best combination of parameters\n",
    "GBM = GBM_grid.best_estimator_"
   ]
  },
  {
   "cell_type": "code",
   "execution_count": 32,
   "metadata": {},
   "outputs": [
    {
     "data": {
      "text/plain": [
       "GradientBoostingClassifier(criterion='friedman_mse', init=None,\n",
       "              learning_rate=0.1, loss='deviance', max_depth=3,\n",
       "              max_features=None, max_leaf_nodes=None,\n",
       "              min_impurity_decrease=0.0, min_impurity_split=None,\n",
       "              min_samples_leaf=1, min_samples_split=2,\n",
       "              min_weight_fraction_leaf=0.0, n_estimators=100,\n",
       "              presort='auto', random_state=None, subsample=1.0, verbose=0,\n",
       "              warm_start=False)"
      ]
     },
     "execution_count": 32,
     "metadata": {},
     "output_type": "execute_result"
    }
   ],
   "source": [
    "## Fit best algorithm to the data\n",
    "GBM.fit(X_train1, y_train1)"
   ]
  },
  {
   "cell_type": "code",
   "execution_count": 33,
   "metadata": {},
   "outputs": [
    {
     "name": "stdout",
     "output_type": "stream",
     "text": [
      "0.823381216499358\n"
     ]
    }
   ],
   "source": [
    "## GBM mean accuray from 10-fold CV\n",
    "scores = cross_val_score(GBM, X_train1, y_train1, cv=10)\n",
    "print(scores.mean())"
   ]
  },
  {
   "cell_type": "code",
   "execution_count": 34,
   "metadata": {
    "scrolled": true
   },
   "outputs": [
    {
     "name": "stdout",
     "output_type": "stream",
     "text": [
      "0.8143333333333334\n",
      "             precision    recall  f1-score   support\n",
      "\n",
      "          0       0.84      0.95      0.89      6955\n",
      "          1       0.67      0.37      0.47      2045\n",
      "\n",
      "avg / total       0.80      0.81      0.79      9000\n",
      "\n"
     ]
    }
   ],
   "source": [
    "## GBM Prediction on Test Set\n",
    "GBMpred = GBM.predict(X_test1)\n",
    "print(accuracy_score(y_test1,GBMpred))\n",
    "print(classification_report(y_test1, GBMpred))"
   ]
  },
  {
   "cell_type": "markdown",
   "metadata": {},
   "source": [
    "### SVM"
   ]
  },
  {
   "cell_type": "code",
   "execution_count": 35,
   "metadata": {},
   "outputs": [
    {
     "data": {
      "text/plain": [
       "SVC(C=1.0, cache_size=200, class_weight=None, coef0=0.0,\n",
       "  decision_function_shape='ovr', degree=3, gamma='auto', kernel='rbf',\n",
       "  max_iter=-1, probability=False, random_state=None, shrinking=True,\n",
       "  tol=0.001, verbose=False)"
      ]
     },
     "execution_count": 35,
     "metadata": {},
     "output_type": "execute_result"
    }
   ],
   "source": [
    "## Fit stock algorithm to the data\n",
    "SVM.fit(X_train1, y_train1)"
   ]
  },
  {
   "cell_type": "code",
   "execution_count": 36,
   "metadata": {},
   "outputs": [
    {
     "name": "stdout",
     "output_type": "stream",
     "text": [
      "0.7821902168555724\n"
     ]
    }
   ],
   "source": [
    "## SVM mean accuray from 10-fold CV\n",
    "scores = cross_val_score(SVM, X_train1, y_train1, cv=10)\n",
    "print(scores.mean())"
   ]
  },
  {
   "cell_type": "code",
   "execution_count": 37,
   "metadata": {
    "scrolled": false
   },
   "outputs": [
    {
     "name": "stdout",
     "output_type": "stream",
     "text": [
      "0.773\n",
      "             precision    recall  f1-score   support\n",
      "\n",
      "          0       0.77      1.00      0.87      6955\n",
      "          1       0.52      0.01      0.03      2045\n",
      "\n",
      "avg / total       0.72      0.77      0.68      9000\n",
      "\n"
     ]
    }
   ],
   "source": [
    "## SVM Prediction on Test Set\n",
    "SVMpred = SVM.predict(X_test1)\n",
    "print(accuracy_score(y_test1,SVMpred))\n",
    "print(classification_report(y_test1, SVMpred))"
   ]
  },
  {
   "cell_type": "markdown",
   "metadata": {},
   "source": [
    "## Neural Network"
   ]
  },
  {
   "cell_type": "code",
   "execution_count": 64,
   "metadata": {},
   "outputs": [],
   "source": [
    "NN = MLPClassifier(hidden_layer_sizes = (69), max_iter = 300, random_state = 123)"
   ]
  },
  {
   "cell_type": "code",
   "execution_count": 65,
   "metadata": {},
   "outputs": [],
   "source": [
    "## Gridsearch parameters for NN\n",
    "NN_param = {\n",
    "    'activation' : ['tanh'],\n",
    "    'alpha' : [0.0001]\n",
    "}\n",
    "## type of scoring used to compare parameter combinations\n",
    "acc_scorer = make_scorer(accuracy_score)\n",
    "## run the grid search\n",
    "NN_grid = GridSearchCV(estimator = NN, param_grid = NN_param, return_train_score = True, cv=10)\n",
    "NN_grid = NN_grid.fit(X_train1, y_train1)"
   ]
  },
  {
   "cell_type": "code",
   "execution_count": 66,
   "metadata": {},
   "outputs": [
    {
     "data": {
      "text/plain": [
       "{'mean_fit_time': array([0.79265966]),\n",
       " 'std_fit_time': array([0.2053731]),\n",
       " 'mean_score_time': array([0.00622292]),\n",
       " 'std_score_time': array([0.00662994]),\n",
       " 'param_activation': masked_array(data=['tanh'],\n",
       "              mask=[False],\n",
       "        fill_value='?',\n",
       "             dtype=object),\n",
       " 'param_alpha': masked_array(data=[0.0001],\n",
       "              mask=[False],\n",
       "        fill_value='?',\n",
       "             dtype=object),\n",
       " 'params': [{'activation': 'tanh', 'alpha': 0.0001}],\n",
       " 'split0_test_score': array([0.78105664]),\n",
       " 'split1_test_score': array([0.78142857]),\n",
       " 'split2_test_score': array([0.78142857]),\n",
       " 'split3_test_score': array([0.78142857]),\n",
       " 'split4_test_score': array([0.78142857]),\n",
       " 'split5_test_score': array([0.78142857]),\n",
       " 'split6_test_score': array([0.78142857]),\n",
       " 'split7_test_score': array([0.78142857]),\n",
       " 'split8_test_score': array([0.78190476]),\n",
       " 'split9_test_score': array([0.78132444]),\n",
       " 'mean_test_score': array([0.78142857]),\n",
       " 'std_test_score': array([0.00019391]),\n",
       " 'rank_test_score': array([1]),\n",
       " 'split0_train_score': array([0.78120535]),\n",
       " 'split1_train_score': array([0.78116402]),\n",
       " 'split2_train_score': array([0.78137566]),\n",
       " 'split3_train_score': array([0.7815873]),\n",
       " 'split4_train_score': array([0.78132275]),\n",
       " 'split5_train_score': array([0.78142857]),\n",
       " 'split6_train_score': array([0.78116402]),\n",
       " 'split7_train_score': array([0.78111111]),\n",
       " 'split8_train_score': array([0.78063492]),\n",
       " 'split9_train_score': array([0.78138723]),\n",
       " 'mean_train_score': array([0.78123809]),\n",
       " 'std_train_score': array([0.00024465])}"
      ]
     },
     "execution_count": 66,
     "metadata": {},
     "output_type": "execute_result"
    }
   ],
   "source": [
    "## Examine best parameters\n",
    "NN_grid.cv_results_"
   ]
  },
  {
   "cell_type": "code",
   "execution_count": 67,
   "metadata": {},
   "outputs": [],
   "source": [
    "## set the classifier to best combination of parameters\n",
    "NN = NN_grid.best_estimator_"
   ]
  },
  {
   "cell_type": "code",
   "execution_count": 68,
   "metadata": {},
   "outputs": [
    {
     "data": {
      "text/plain": [
       "MLPClassifier(activation='tanh', alpha=0.0001, batch_size='auto', beta_1=0.9,\n",
       "       beta_2=0.999, early_stopping=False, epsilon=1e-08,\n",
       "       hidden_layer_sizes=69, learning_rate='constant',\n",
       "       learning_rate_init=0.001, max_iter=300, momentum=0.9,\n",
       "       nesterovs_momentum=True, power_t=0.5, random_state=123,\n",
       "       shuffle=True, solver='adam', tol=0.0001, validation_fraction=0.1,\n",
       "       verbose=False, warm_start=False)"
      ]
     },
     "execution_count": 68,
     "metadata": {},
     "output_type": "execute_result"
    }
   ],
   "source": [
    "## Fit best algorithm to the data\n",
    "NN.fit(X_train1, y_train1)"
   ]
  },
  {
   "cell_type": "code",
   "execution_count": 69,
   "metadata": {},
   "outputs": [
    {
     "name": "stdout",
     "output_type": "stream",
     "text": [
      "0.7814285841809769\n"
     ]
    }
   ],
   "source": [
    "## NN mean accuray from 10-fold CV\n",
    "scores = cross_val_score(NN, X_train1, y_train1, cv=10)\n",
    "print(scores.mean())"
   ]
  },
  {
   "cell_type": "code",
   "execution_count": 75,
   "metadata": {
    "scrolled": true
   },
   "outputs": [
    {
     "name": "stdout",
     "output_type": "stream",
     "text": [
      "0.7728888888888888\n",
      "             precision    recall  f1-score   support\n",
      "\n",
      "          0       0.77      1.00      0.87      6955\n",
      "          1       1.00      0.00      0.00      2045\n",
      "\n",
      "avg / total       0.82      0.77      0.67      9000\n",
      "\n"
     ]
    }
   ],
   "source": [
    "## NN Prediction on Test Set\n",
    "NNpred = NN.predict(X_test1)\n",
    "print(accuracy_score(y_test1,NNpred))\n",
    "print(classification_report(y_test1, NNpred))"
   ]
  },
  {
   "cell_type": "code",
   "execution_count": 74,
   "metadata": {},
   "outputs": [
    {
     "name": "stdout",
     "output_type": "stream",
     "text": [
      "[[6800  155]\n",
      " [1867  178]]\n"
     ]
    }
   ],
   "source": [
    "print(confusion_matrix(y_test1, kNNpred))"
   ]
  },
  {
   "cell_type": "code",
   "execution_count": 76,
   "metadata": {},
   "outputs": [
    {
     "name": "stdout",
     "output_type": "stream",
     "text": [
      "kNN accuray: 0.775 kNN F1-score: 0.150\n",
      "RF accuray: 0.808 RF F1-score: 0.459\n",
      "GBM accuray: 0.814 GBM F1-score: 0.473\n",
      "SVM accuray: 0.773 SVM F1-score: 0.028\n",
      "NNaccuray: 0.773 NN F1-score: 0.001\n"
     ]
    }
   ],
   "source": [
    "## Comparing accuracy and F1 score of different models:\n",
    "print('kNN accuray: %.3f' % accuracy_score(y_test1,kNNpred), 'kNN F1-score: %.3f' % f1_score(y_test1,kNNpred))\n",
    "print('RF accuray: %.3f' % accuracy_score(y_test1,RFpred), 'RF F1-score: %.3f' % f1_score(y_test1,RFpred))\n",
    "print('GBM accuray: %.3f' % accuracy_score(y_test1,GBMpred), 'GBM F1-score: %.3f' % f1_score(y_test1,GBMpred))\n",
    "print('SVM accuray: %.3f' % accuracy_score(y_test1,SVMpred), 'SVM F1-score: %.3f' % f1_score(y_test1,SVMpred))\n",
    "print('NNaccuray: %.3f' % accuracy_score(y_test1,NNpred), 'NN F1-score: %.3f' % f1_score(y_test1,NNpred))"
   ]
  },
  {
   "cell_type": "markdown",
   "metadata": {},
   "source": [
    "## Feature Engnieering with RF and GBM"
   ]
  },
  {
   "cell_type": "markdown",
   "metadata": {},
   "source": [
    "### Training Set 2"
   ]
  },
  {
   "cell_type": "code",
   "execution_count": 80,
   "metadata": {},
   "outputs": [],
   "source": [
    "## Training set 2 - remove bill and pay amt\n",
    "X_train2 = features.iloc[:,0:11]\n",
    "y_train2 = depVar"
   ]
  },
  {
   "cell_type": "code",
   "execution_count": 82,
   "metadata": {},
   "outputs": [],
   "source": [
    "## use train_test_split\n",
    "X_train2, X_test2, y_train2, y_test2 = train_test_split(X_train2, y_train2, test_size = 0.3 )"
   ]
  },
  {
   "cell_type": "code",
   "execution_count": 83,
   "metadata": {},
   "outputs": [
    {
     "name": "stdout",
     "output_type": "stream",
     "text": [
      "(21000, 11) (9000, 11)\n",
      "(21000,) (9000,)\n"
     ]
    }
   ],
   "source": [
    "## examine that we have the right split\n",
    "print(X_train2.shape, X_test2.shape)\n",
    "print(y_train2.shape, y_test2.shape)"
   ]
  },
  {
   "cell_type": "markdown",
   "metadata": {},
   "source": [
    "### Training Set 3"
   ]
  },
  {
   "cell_type": "code",
   "execution_count": 118,
   "metadata": {},
   "outputs": [],
   "source": [
    "## Training set 3 - remove pay status\n",
    "X_train3 = features.iloc[:,[0,1,2,3,4,11,12,13,14,15,16,17,18,19,20,21,22]]\n",
    "y_train3 = depVar"
   ]
  },
  {
   "cell_type": "code",
   "execution_count": 120,
   "metadata": {},
   "outputs": [
    {
     "data": {
      "text/html": [
       "<div>\n",
       "<style scoped>\n",
       "    .dataframe tbody tr th:only-of-type {\n",
       "        vertical-align: middle;\n",
       "    }\n",
       "\n",
       "    .dataframe tbody tr th {\n",
       "        vertical-align: top;\n",
       "    }\n",
       "\n",
       "    .dataframe thead th {\n",
       "        text-align: right;\n",
       "    }\n",
       "</style>\n",
       "<table border=\"1\" class=\"dataframe\">\n",
       "  <thead>\n",
       "    <tr style=\"text-align: right;\">\n",
       "      <th></th>\n",
       "      <th>LIMIT_BAL</th>\n",
       "      <th>SEX</th>\n",
       "      <th>EDUCATION</th>\n",
       "      <th>MARRIAGE</th>\n",
       "      <th>AGE_BIN</th>\n",
       "      <th>BILL_AMT1</th>\n",
       "      <th>BILL_AMT2</th>\n",
       "      <th>BILL_AMT3</th>\n",
       "      <th>BILL_AMT4</th>\n",
       "      <th>BILL_AMT5</th>\n",
       "      <th>BILL_AMT6</th>\n",
       "      <th>PAY_AMT1</th>\n",
       "      <th>PAY_AMT2</th>\n",
       "      <th>PAY_AMT3</th>\n",
       "      <th>PAY_AMT4</th>\n",
       "      <th>PAY_AMT5</th>\n",
       "      <th>PAY_AMT6</th>\n",
       "    </tr>\n",
       "  </thead>\n",
       "  <tbody>\n",
       "    <tr>\n",
       "      <th>0</th>\n",
       "      <td>20000</td>\n",
       "      <td>2</td>\n",
       "      <td>2</td>\n",
       "      <td>1</td>\n",
       "      <td>20</td>\n",
       "      <td>3913</td>\n",
       "      <td>3102</td>\n",
       "      <td>689</td>\n",
       "      <td>0</td>\n",
       "      <td>0</td>\n",
       "      <td>0</td>\n",
       "      <td>0</td>\n",
       "      <td>689</td>\n",
       "      <td>0</td>\n",
       "      <td>0</td>\n",
       "      <td>0</td>\n",
       "      <td>0</td>\n",
       "    </tr>\n",
       "    <tr>\n",
       "      <th>1</th>\n",
       "      <td>120000</td>\n",
       "      <td>2</td>\n",
       "      <td>2</td>\n",
       "      <td>2</td>\n",
       "      <td>20</td>\n",
       "      <td>2682</td>\n",
       "      <td>1725</td>\n",
       "      <td>2682</td>\n",
       "      <td>3272</td>\n",
       "      <td>3455</td>\n",
       "      <td>3261</td>\n",
       "      <td>0</td>\n",
       "      <td>1000</td>\n",
       "      <td>1000</td>\n",
       "      <td>1000</td>\n",
       "      <td>0</td>\n",
       "      <td>2000</td>\n",
       "    </tr>\n",
       "    <tr>\n",
       "      <th>2</th>\n",
       "      <td>90000</td>\n",
       "      <td>2</td>\n",
       "      <td>2</td>\n",
       "      <td>2</td>\n",
       "      <td>30</td>\n",
       "      <td>29239</td>\n",
       "      <td>14027</td>\n",
       "      <td>13559</td>\n",
       "      <td>14331</td>\n",
       "      <td>14948</td>\n",
       "      <td>15549</td>\n",
       "      <td>1518</td>\n",
       "      <td>1500</td>\n",
       "      <td>1000</td>\n",
       "      <td>1000</td>\n",
       "      <td>1000</td>\n",
       "      <td>5000</td>\n",
       "    </tr>\n",
       "    <tr>\n",
       "      <th>3</th>\n",
       "      <td>50000</td>\n",
       "      <td>2</td>\n",
       "      <td>2</td>\n",
       "      <td>1</td>\n",
       "      <td>30</td>\n",
       "      <td>46990</td>\n",
       "      <td>48233</td>\n",
       "      <td>49291</td>\n",
       "      <td>28314</td>\n",
       "      <td>28959</td>\n",
       "      <td>29547</td>\n",
       "      <td>2000</td>\n",
       "      <td>2019</td>\n",
       "      <td>1200</td>\n",
       "      <td>1100</td>\n",
       "      <td>1069</td>\n",
       "      <td>1000</td>\n",
       "    </tr>\n",
       "    <tr>\n",
       "      <th>4</th>\n",
       "      <td>50000</td>\n",
       "      <td>1</td>\n",
       "      <td>2</td>\n",
       "      <td>1</td>\n",
       "      <td>50</td>\n",
       "      <td>8617</td>\n",
       "      <td>5670</td>\n",
       "      <td>35835</td>\n",
       "      <td>20940</td>\n",
       "      <td>19146</td>\n",
       "      <td>19131</td>\n",
       "      <td>2000</td>\n",
       "      <td>36681</td>\n",
       "      <td>10000</td>\n",
       "      <td>9000</td>\n",
       "      <td>689</td>\n",
       "      <td>679</td>\n",
       "    </tr>\n",
       "  </tbody>\n",
       "</table>\n",
       "</div>"
      ],
      "text/plain": [
       "   LIMIT_BAL  SEX  EDUCATION  MARRIAGE  AGE_BIN  BILL_AMT1  BILL_AMT2  \\\n",
       "0      20000    2          2         1       20       3913       3102   \n",
       "1     120000    2          2         2       20       2682       1725   \n",
       "2      90000    2          2         2       30      29239      14027   \n",
       "3      50000    2          2         1       30      46990      48233   \n",
       "4      50000    1          2         1       50       8617       5670   \n",
       "\n",
       "   BILL_AMT3  BILL_AMT4  BILL_AMT5  BILL_AMT6  PAY_AMT1  PAY_AMT2  PAY_AMT3  \\\n",
       "0        689          0          0          0         0       689         0   \n",
       "1       2682       3272       3455       3261         0      1000      1000   \n",
       "2      13559      14331      14948      15549      1518      1500      1000   \n",
       "3      49291      28314      28959      29547      2000      2019      1200   \n",
       "4      35835      20940      19146      19131      2000     36681     10000   \n",
       "\n",
       "   PAY_AMT4  PAY_AMT5  PAY_AMT6  \n",
       "0         0         0         0  \n",
       "1      1000         0      2000  \n",
       "2      1000      1000      5000  \n",
       "3      1100      1069      1000  \n",
       "4      9000       689       679  "
      ]
     },
     "execution_count": 120,
     "metadata": {},
     "output_type": "execute_result"
    }
   ],
   "source": [
    "X_train3.head()"
   ]
  },
  {
   "cell_type": "code",
   "execution_count": 121,
   "metadata": {},
   "outputs": [],
   "source": [
    "## use train_test_split\n",
    "X_train3, X_test3, y_train3, y_test3 = train_test_split(X_train3, y_train3, test_size = 0.3 )"
   ]
  },
  {
   "cell_type": "code",
   "execution_count": 122,
   "metadata": {},
   "outputs": [
    {
     "name": "stdout",
     "output_type": "stream",
     "text": [
      "(21000, 17) (9000, 17)\n",
      "(21000,) (9000,)\n"
     ]
    }
   ],
   "source": [
    "## examine that we have the right split\n",
    "print(X_train3.shape, X_test3.shape)\n",
    "print(y_train3.shape, y_test3.shape)"
   ]
  },
  {
   "cell_type": "markdown",
   "metadata": {},
   "source": [
    "## Build and Train Model - Training set 2"
   ]
  },
  {
   "cell_type": "code",
   "execution_count": 85,
   "metadata": {},
   "outputs": [],
   "source": [
    "## Models\n",
    "RF2 = RandomForestClassifier(n_jobs = 7)\n",
    "GBM2= GradientBoostingClassifier()\n"
   ]
  },
  {
   "cell_type": "markdown",
   "metadata": {},
   "source": [
    "### Random Forest"
   ]
  },
  {
   "cell_type": "code",
   "execution_count": 86,
   "metadata": {},
   "outputs": [],
   "source": [
    "## Gridsearch parameters for RF\n",
    "RF_param = {\n",
    "    'n_estimators' : [10,20,30],\n",
    "    'max_features' : ['auto', 'sqrt', 'log2']\n",
    "}\n",
    "## type of scoring used to compare parameter combinations\n",
    "acc_scorer = make_scorer(accuracy_score)\n",
    "## run the grid search\n",
    "RF_grid = GridSearchCV(estimator = RF2, param_grid = RF_param, return_train_score = True, cv=10)\n",
    "RF_grid = RF_grid.fit(X_train2, y_train2)"
   ]
  },
  {
   "cell_type": "code",
   "execution_count": 87,
   "metadata": {},
   "outputs": [
    {
     "data": {
      "text/plain": [
       "{'mean_fit_time': array([0.12226772, 0.13229177, 0.17618957, 0.12166553, 0.12935376,\n",
       "        0.16601753, 0.11807125, 0.13054149, 0.18556011]),\n",
       " 'std_fit_time': array([0.00861362, 0.00753531, 0.04815701, 0.00418923, 0.00922472,\n",
       "        0.0483913 , 0.00480345, 0.00939071, 0.04918173]),\n",
       " 'mean_score_time': array([0.10975237, 0.11222785, 0.11593702, 0.10899074, 0.11259573,\n",
       "        0.11353462, 0.1111239 , 0.11408703, 0.11326962]),\n",
       " 'std_score_time': array([0.00707226, 0.00683951, 0.00683984, 0.00594909, 0.00646816,\n",
       "        0.00708381, 0.00770254, 0.00697836, 0.00652828]),\n",
       " 'param_max_features': masked_array(data=['auto', 'auto', 'auto', 'sqrt', 'sqrt', 'sqrt', 'log2',\n",
       "                    'log2', 'log2'],\n",
       "              mask=[False, False, False, False, False, False, False, False,\n",
       "                    False],\n",
       "        fill_value='?',\n",
       "             dtype=object),\n",
       " 'param_n_estimators': masked_array(data=[10, 20, 30, 10, 20, 30, 10, 20, 30],\n",
       "              mask=[False, False, False, False, False, False, False, False,\n",
       "                    False],\n",
       "        fill_value='?',\n",
       "             dtype=object),\n",
       " 'params': [{'max_features': 'auto', 'n_estimators': 10},\n",
       "  {'max_features': 'auto', 'n_estimators': 20},\n",
       "  {'max_features': 'auto', 'n_estimators': 30},\n",
       "  {'max_features': 'sqrt', 'n_estimators': 10},\n",
       "  {'max_features': 'sqrt', 'n_estimators': 20},\n",
       "  {'max_features': 'sqrt', 'n_estimators': 30},\n",
       "  {'max_features': 'log2', 'n_estimators': 10},\n",
       "  {'max_features': 'log2', 'n_estimators': 20},\n",
       "  {'max_features': 'log2', 'n_estimators': 30}],\n",
       " 'split0_test_score': array([0.77333333, 0.78809524, 0.78714286, 0.77904762, 0.78380952,\n",
       "        0.77809524, 0.77809524, 0.77857143, 0.78333333]),\n",
       " 'split1_test_score': array([0.78428571, 0.7952381 , 0.79857143, 0.79190476, 0.79333333,\n",
       "        0.79714286, 0.79047619, 0.78809524, 0.79      ]),\n",
       " 'split2_test_score': array([0.77428571, 0.7852381 , 0.78619048, 0.7847619 , 0.78380952,\n",
       "        0.79047619, 0.78047619, 0.78285714, 0.78714286]),\n",
       " 'split3_test_score': array([0.7852381 , 0.79333333, 0.78190476, 0.78809524, 0.78666667,\n",
       "        0.79428571, 0.7847619 , 0.79      , 0.79238095]),\n",
       " 'split4_test_score': array([0.78428571, 0.78904762, 0.78952381, 0.7847619 , 0.79190476,\n",
       "        0.79047619, 0.78619048, 0.78952381, 0.79238095]),\n",
       " 'split5_test_score': array([0.78857143, 0.78714286, 0.79047619, 0.7952381 , 0.78333333,\n",
       "        0.78619048, 0.7852381 , 0.79142857, 0.79333333]),\n",
       " 'split6_test_score': array([0.78571429, 0.79714286, 0.80142857, 0.79142857, 0.8       ,\n",
       "        0.79952381, 0.79380952, 0.79380952, 0.79714286]),\n",
       " 'split7_test_score': array([0.76952381, 0.77238095, 0.77904762, 0.77761905, 0.77285714,\n",
       "        0.77666667, 0.7747619 , 0.77714286, 0.77380952]),\n",
       " 'split8_test_score': array([0.77047619, 0.78142857, 0.78190476, 0.77238095, 0.77761905,\n",
       "        0.78333333, 0.76666667, 0.77761905, 0.78142857]),\n",
       " 'split9_test_score': array([0.78904762, 0.78380952, 0.79142857, 0.78666667, 0.79571429,\n",
       "        0.79904762, 0.78571429, 0.7847619 , 0.79142857]),\n",
       " 'mean_test_score': array([0.78047619, 0.78728571, 0.7887619 , 0.78519048, 0.78690476,\n",
       "        0.78952381, 0.78261905, 0.78538095, 0.7882381 ]),\n",
       " 'std_test_score': array([0.00726249, 0.00688108, 0.00681868, 0.00674596, 0.00794325,\n",
       "        0.00786508, 0.00749679, 0.00578547, 0.00657781]),\n",
       " 'rank_test_score': array([9, 4, 2, 7, 5, 1, 8, 6, 3]),\n",
       " 'split0_train_score': array([0.92910053, 0.93783069, 0.94037037, 0.92878307, 0.93777778,\n",
       "        0.94010582, 0.92888889, 0.93814815, 0.94089947]),\n",
       " 'split1_train_score': array([0.92968254, 0.93767196, 0.94005291, 0.92888889, 0.93761905,\n",
       "        0.94037037, 0.92910053, 0.93687831, 0.94015873]),\n",
       " 'split2_train_score': array([0.92793651, 0.93650794, 0.93941799, 0.9289418 , 0.93687831,\n",
       "        0.9394709 , 0.92730159, 0.9373545 , 0.93957672]),\n",
       " 'split3_train_score': array([0.92825397, 0.93677249, 0.93904762, 0.92878307, 0.93693122,\n",
       "        0.93925926, 0.92888889, 0.93730159, 0.93962963]),\n",
       " 'split4_train_score': array([0.92994709, 0.93751323, 0.94031746, 0.92994709, 0.93825397,\n",
       "        0.94047619, 0.92873016, 0.9368254 , 0.9394709 ]),\n",
       " 'split5_train_score': array([0.92994709, 0.93693122, 0.93978836, 0.92846561, 0.93767196,\n",
       "        0.93915344, 0.92978836, 0.93809524, 0.93973545]),\n",
       " 'split6_train_score': array([0.92899471, 0.93793651, 0.93994709, 0.92746032, 0.93740741,\n",
       "        0.93978836, 0.92962963, 0.93772487, 0.93978836]),\n",
       " 'split7_train_score': array([0.93026455, 0.93809524, 0.94074074, 0.92862434, 0.93804233,\n",
       "        0.94068783, 0.92957672, 0.93820106, 0.94084656]),\n",
       " 'split8_train_score': array([0.93      , 0.93888889, 0.94074074, 0.93005291, 0.93915344,\n",
       "        0.94121693, 0.93095238, 0.93873016, 0.94121693]),\n",
       " 'split9_train_score': array([0.92989418, 0.93767196, 0.9405291 , 0.92931217, 0.93825397,\n",
       "        0.93994709, 0.93068783, 0.93825397, 0.93973545]),\n",
       " 'mean_train_score': array([0.92940212, 0.93758201, 0.94009524, 0.92892593, 0.93779894,\n",
       "        0.94004762, 0.9293545 , 0.93775132, 0.94010582]),\n",
       " 'std_train_score': array([0.00075758, 0.00066425, 0.00053111, 0.00070394, 0.00064115,\n",
       "        0.00062445, 0.00098725, 0.0006057 , 0.00060835])}"
      ]
     },
     "execution_count": 87,
     "metadata": {},
     "output_type": "execute_result"
    }
   ],
   "source": [
    "## Examine best parameters\n",
    "RF_grid.cv_results_"
   ]
  },
  {
   "cell_type": "code",
   "execution_count": 88,
   "metadata": {},
   "outputs": [],
   "source": [
    "## set the classifier to best combination of parameters\n",
    "RF2 = RF_grid.best_estimator_"
   ]
  },
  {
   "cell_type": "code",
   "execution_count": 89,
   "metadata": {},
   "outputs": [
    {
     "data": {
      "text/plain": [
       "RandomForestClassifier(bootstrap=True, class_weight=None, criterion='gini',\n",
       "            max_depth=None, max_features='sqrt', max_leaf_nodes=None,\n",
       "            min_impurity_decrease=0.0, min_impurity_split=None,\n",
       "            min_samples_leaf=1, min_samples_split=2,\n",
       "            min_weight_fraction_leaf=0.0, n_estimators=30, n_jobs=7,\n",
       "            oob_score=False, random_state=None, verbose=0,\n",
       "            warm_start=False)"
      ]
     },
     "execution_count": 89,
     "metadata": {},
     "output_type": "execute_result"
    }
   ],
   "source": [
    "## Fit best algorithm to the data\n",
    "RF2.fit(X_train2, y_train2)"
   ]
  },
  {
   "cell_type": "code",
   "execution_count": 90,
   "metadata": {},
   "outputs": [
    {
     "name": "stdout",
     "output_type": "stream",
     "text": [
      "0.7882380952380952\n"
     ]
    }
   ],
   "source": [
    "## RF mean accuray from 10-fold CV\n",
    "scores = cross_val_score(RF2, X_train2, y_train2, cv=10)\n",
    "print(scores.mean())"
   ]
  },
  {
   "cell_type": "code",
   "execution_count": 91,
   "metadata": {},
   "outputs": [
    {
     "name": "stdout",
     "output_type": "stream",
     "text": [
      "0.697\n",
      "             precision    recall  f1-score   support\n",
      "\n",
      "          0       0.78      0.85      0.81      6955\n",
      "          1       0.25      0.17      0.20      2045\n",
      "\n",
      "avg / total       0.66      0.70      0.67      9000\n",
      "\n"
     ]
    }
   ],
   "source": [
    "## RF Prediction on Test Set\n",
    "RF2pred = RF2.predict(X_test2)\n",
    "print(accuracy_score(y_test1,RF2pred))\n",
    "print(classification_report(y_test1, RF2pred))"
   ]
  },
  {
   "cell_type": "markdown",
   "metadata": {},
   "source": [
    "### GBM"
   ]
  },
  {
   "cell_type": "code",
   "execution_count": 92,
   "metadata": {},
   "outputs": [],
   "source": [
    "## Gridsearch parameters for GBM\n",
    "GBM_param = {\n",
    "    'n_estimators' : [100,200,300],\n",
    "    'learning_rate' : [0.1,0.5]\n",
    "}\n",
    "## type of scoring used to compare parameter combinations\n",
    "acc_scorer = make_scorer(accuracy_score)\n",
    "## run the grid search\n",
    "GBM_grid = GridSearchCV(estimator = GBM2, param_grid = GBM_param, return_train_score = True, cv=10)\n",
    "GBM_grid = GBM_grid.fit(X_train2, y_train2)"
   ]
  },
  {
   "cell_type": "code",
   "execution_count": 93,
   "metadata": {},
   "outputs": [
    {
     "data": {
      "text/plain": [
       "{'mean_fit_time': array([0.79136143, 1.93371696, 3.02860823, 0.99664211, 2.05126877,\n",
       "        3.02620778]),\n",
       " 'std_fit_time': array([0.03609569, 0.14577507, 0.07635466, 0.01070298, 0.09571813,\n",
       "        0.060285  ]),\n",
       " 'mean_score_time': array([0.00213764, 0.00888383, 0.01128216, 0.004125  , 0.00791211,\n",
       "        0.01089602]),\n",
       " 'std_score_time': array([0.00236105, 0.00277099, 0.00166589, 0.00126203, 0.00305521,\n",
       "        0.0024385 ]),\n",
       " 'param_learning_rate': masked_array(data=[0.1, 0.1, 0.1, 0.5, 0.5, 0.5],\n",
       "              mask=[False, False, False, False, False, False],\n",
       "        fill_value='?',\n",
       "             dtype=object),\n",
       " 'param_n_estimators': masked_array(data=[100, 200, 300, 100, 200, 300],\n",
       "              mask=[False, False, False, False, False, False],\n",
       "        fill_value='?',\n",
       "             dtype=object),\n",
       " 'params': [{'learning_rate': 0.1, 'n_estimators': 100},\n",
       "  {'learning_rate': 0.1, 'n_estimators': 200},\n",
       "  {'learning_rate': 0.1, 'n_estimators': 300},\n",
       "  {'learning_rate': 0.5, 'n_estimators': 100},\n",
       "  {'learning_rate': 0.5, 'n_estimators': 200},\n",
       "  {'learning_rate': 0.5, 'n_estimators': 300}],\n",
       " 'split0_test_score': array([0.82095238, 0.82      , 0.81761905, 0.8152381 , 0.81666667,\n",
       "        0.81428571]),\n",
       " 'split1_test_score': array([0.81952381, 0.82047619, 0.82      , 0.81809524, 0.81761905,\n",
       "        0.81761905]),\n",
       " 'split2_test_score': array([0.8247619 , 0.82333333, 0.82238095, 0.82095238, 0.81904762,\n",
       "        0.81904762]),\n",
       " 'split3_test_score': array([0.82047619, 0.82095238, 0.82      , 0.82095238, 0.82      ,\n",
       "        0.81761905]),\n",
       " 'split4_test_score': array([0.81666667, 0.81619048, 0.81904762, 0.81380952, 0.80952381,\n",
       "        0.81047619]),\n",
       " 'split5_test_score': array([0.82238095, 0.82285714, 0.82190476, 0.81857143, 0.81238095,\n",
       "        0.81190476]),\n",
       " 'split6_test_score': array([0.83142857, 0.83      , 0.83      , 0.83      , 0.82952381,\n",
       "        0.82904762]),\n",
       " 'split7_test_score': array([0.81333333, 0.81333333, 0.81190476, 0.80428571, 0.80619048,\n",
       "        0.80857143]),\n",
       " 'split8_test_score': array([0.81666667, 0.81619048, 0.81428571, 0.81      , 0.81190476,\n",
       "        0.81380952]),\n",
       " 'split9_test_score': array([0.81952381, 0.81809524, 0.81809524, 0.81095238, 0.81095238,\n",
       "        0.80761905]),\n",
       " 'mean_test_score': array([0.82057143, 0.82014286, 0.81952381, 0.81628571, 0.81538095,\n",
       "        0.815     ]),\n",
       " 'std_test_score': array([0.00473229, 0.00444186, 0.00464133, 0.00677731, 0.0063319 ,\n",
       "        0.00596   ]),\n",
       " 'rank_test_score': array([1, 2, 3, 4, 5, 6]),\n",
       " 'split0_train_score': array([0.82439153, 0.82698413, 0.83015873, 0.83306878, 0.83978836,\n",
       "        0.84428571]),\n",
       " 'split1_train_score': array([0.82470899, 0.82698413, 0.82931217, 0.83232804, 0.83867725,\n",
       "        0.84301587]),\n",
       " 'split2_train_score': array([0.82417989, 0.8268254 , 0.83031746, 0.83280423, 0.83968254,\n",
       "        0.8437037 ]),\n",
       " 'split3_train_score': array([0.82449735, 0.82756614, 0.83005291, 0.8331746 , 0.83957672,\n",
       "        0.84460317]),\n",
       " 'split4_train_score': array([0.82603175, 0.82756614, 0.82989418, 0.83259259, 0.83899471,\n",
       "        0.84328042]),\n",
       " 'split5_train_score': array([0.82433862, 0.82708995, 0.8294709 , 0.83142857, 0.8362963 ,\n",
       "        0.84216931]),\n",
       " 'split6_train_score': array([0.82354497, 0.82634921, 0.82857143, 0.83201058, 0.83825397,\n",
       "        0.8421164 ]),\n",
       " 'split7_train_score': array([0.82555556, 0.82783069, 0.82936508, 0.83349206, 0.83962963,\n",
       "        0.84444444]),\n",
       " 'split8_train_score': array([0.82518519, 0.82798942, 0.83005291, 0.83349206, 0.83978836,\n",
       "        0.84417989]),\n",
       " 'split9_train_score': array([0.82492063, 0.82814815, 0.83042328, 0.83439153, 0.83989418,\n",
       "        0.84439153]),\n",
       " 'mean_train_score': array([0.82473545, 0.82733333, 0.8297619 , 0.83287831, 0.8390582 ,\n",
       "        0.84361905]),\n",
       " 'std_train_score': array([0.0006818 , 0.00054587, 0.00054333, 0.00080074, 0.00105709,\n",
       "        0.00088605])}"
      ]
     },
     "execution_count": 93,
     "metadata": {},
     "output_type": "execute_result"
    }
   ],
   "source": [
    "## Examine best parameters\n",
    "GBM_grid.cv_results_"
   ]
  },
  {
   "cell_type": "code",
   "execution_count": 94,
   "metadata": {},
   "outputs": [],
   "source": [
    "## set the classifier to best combination of parameters\n",
    "GBM2 = GBM_grid.best_estimator_"
   ]
  },
  {
   "cell_type": "code",
   "execution_count": 95,
   "metadata": {},
   "outputs": [
    {
     "data": {
      "text/plain": [
       "GradientBoostingClassifier(criterion='friedman_mse', init=None,\n",
       "              learning_rate=0.1, loss='deviance', max_depth=3,\n",
       "              max_features=None, max_leaf_nodes=None,\n",
       "              min_impurity_decrease=0.0, min_impurity_split=None,\n",
       "              min_samples_leaf=1, min_samples_split=2,\n",
       "              min_weight_fraction_leaf=0.0, n_estimators=100,\n",
       "              presort='auto', random_state=None, subsample=1.0, verbose=0,\n",
       "              warm_start=False)"
      ]
     },
     "execution_count": 95,
     "metadata": {},
     "output_type": "execute_result"
    }
   ],
   "source": [
    "## Fit best algorithm to the data\n",
    "GBM2.fit(X_train2, y_train2)"
   ]
  },
  {
   "cell_type": "code",
   "execution_count": 96,
   "metadata": {},
   "outputs": [
    {
     "name": "stdout",
     "output_type": "stream",
     "text": [
      "0.8206190476190477\n"
     ]
    }
   ],
   "source": [
    "## GBM mean accuray from 10-fold CV\n",
    "scores = cross_val_score(GBM2, X_train2, y_train2, cv=10)\n",
    "print(scores.mean())"
   ]
  },
  {
   "cell_type": "code",
   "execution_count": 97,
   "metadata": {
    "scrolled": true
   },
   "outputs": [
    {
     "name": "stdout",
     "output_type": "stream",
     "text": [
      "0.8244444444444444\n",
      "             precision    recall  f1-score   support\n",
      "\n",
      "          0       0.85      0.95      0.89      7024\n",
      "          1       0.68      0.38      0.49      1976\n",
      "\n",
      "avg / total       0.81      0.82      0.81      9000\n",
      "\n"
     ]
    }
   ],
   "source": [
    "## GBM Prediction on Test Set\n",
    "GBM2pred = GBM2.predict(X_test2)\n",
    "print(accuracy_score(y_test2,GBM2pred))\n",
    "print(classification_report(y_test2, GBM2pred))"
   ]
  },
  {
   "cell_type": "code",
   "execution_count": 98,
   "metadata": {
    "scrolled": true
   },
   "outputs": [
    {
     "name": "stdout",
     "output_type": "stream",
     "text": [
      "RF accuray: 0.793 RF F1-score: 0.442\n",
      "GBM accuray: 0.824 GBM F1-score: 0.489\n"
     ]
    }
   ],
   "source": [
    "## Comparing accuracy and F1 score of different models on training set 2\n",
    "print('RF accuray: %.3f' % accuracy_score(y_test2,RF2pred), 'RF F1-score: %.3f' % f1_score(y_test2,RF2pred))\n",
    "print('GBM accuray: %.3f' % accuracy_score(y_test2,GBM2pred), 'GBM F1-score: %.3f' % f1_score(y_test2,GBM2pred))"
   ]
  },
  {
   "cell_type": "code",
   "execution_count": null,
   "metadata": {},
   "outputs": [],
   "source": []
  },
  {
   "cell_type": "markdown",
   "metadata": {},
   "source": [
    "### Build and Train Model - Training set 3"
   ]
  },
  {
   "cell_type": "code",
   "execution_count": 124,
   "metadata": {},
   "outputs": [],
   "source": [
    "## Models\n",
    "RF3 = RandomForestClassifier(n_jobs = 7)\n",
    "GBM3= GradientBoostingClassifier()\n"
   ]
  },
  {
   "cell_type": "markdown",
   "metadata": {},
   "source": [
    "### Random Forest"
   ]
  },
  {
   "cell_type": "code",
   "execution_count": 125,
   "metadata": {},
   "outputs": [],
   "source": [
    "## Gridsearch parameters for RF\n",
    "RF_param = {\n",
    "    'n_estimators' : [10,20,30],\n",
    "    'max_features' : ['auto', 'sqrt', 'log2']\n",
    "}\n",
    "## type of scoring used to compare parameter combinations\n",
    "acc_scorer = make_scorer(accuracy_score)\n",
    "## run the grid search\n",
    "RF_grid = GridSearchCV(estimator = RF3, param_grid = RF_param, return_train_score = True, cv=10)\n",
    "RF_grid = RF_grid.fit(X_train2, y_train2)"
   ]
  },
  {
   "cell_type": "code",
   "execution_count": 126,
   "metadata": {},
   "outputs": [
    {
     "data": {
      "text/plain": [
       "{'mean_fit_time': array([0.11599019, 0.13587174, 0.18752744, 0.12027884, 0.13341932,\n",
       "        0.16288331, 0.12096417, 0.12784224, 0.16757214]),\n",
       " 'std_fit_time': array([0.00300966, 0.00789584, 0.04724189, 0.00452227, 0.00778723,\n",
       "        0.04465425, 0.00588299, 0.00793415, 0.04391566]),\n",
       " 'mean_score_time': array([0.1097405 , 0.11549964, 0.11692626, 0.11262791, 0.11545649,\n",
       "        0.1145138 , 0.11313093, 0.11113155, 0.11444893]),\n",
       " 'std_score_time': array([0.00729275, 0.00704154, 0.005795  , 0.00744259, 0.00703669,\n",
       "        0.00645625, 0.00630777, 0.00808563, 0.00620359]),\n",
       " 'param_max_features': masked_array(data=['auto', 'auto', 'auto', 'sqrt', 'sqrt', 'sqrt', 'log2',\n",
       "                    'log2', 'log2'],\n",
       "              mask=[False, False, False, False, False, False, False, False,\n",
       "                    False],\n",
       "        fill_value='?',\n",
       "             dtype=object),\n",
       " 'param_n_estimators': masked_array(data=[10, 20, 30, 10, 20, 30, 10, 20, 30],\n",
       "              mask=[False, False, False, False, False, False, False, False,\n",
       "                    False],\n",
       "        fill_value='?',\n",
       "             dtype=object),\n",
       " 'params': [{'max_features': 'auto', 'n_estimators': 10},\n",
       "  {'max_features': 'auto', 'n_estimators': 20},\n",
       "  {'max_features': 'auto', 'n_estimators': 30},\n",
       "  {'max_features': 'sqrt', 'n_estimators': 10},\n",
       "  {'max_features': 'sqrt', 'n_estimators': 20},\n",
       "  {'max_features': 'sqrt', 'n_estimators': 30},\n",
       "  {'max_features': 'log2', 'n_estimators': 10},\n",
       "  {'max_features': 'log2', 'n_estimators': 20},\n",
       "  {'max_features': 'log2', 'n_estimators': 30}],\n",
       " 'split0_test_score': array([0.78095238, 0.78142857, 0.78333333, 0.77904762, 0.77904762,\n",
       "        0.7752381 , 0.78190476, 0.77380952, 0.77904762]),\n",
       " 'split1_test_score': array([0.78809524, 0.78761905, 0.79095238, 0.79142857, 0.79095238,\n",
       "        0.79238095, 0.79142857, 0.78857143, 0.78857143]),\n",
       " 'split2_test_score': array([0.78333333, 0.78333333, 0.78857143, 0.78380952, 0.78857143,\n",
       "        0.78857143, 0.79047619, 0.79047619, 0.79142857]),\n",
       " 'split3_test_score': array([0.78571429, 0.78619048, 0.79285714, 0.78809524, 0.78619048,\n",
       "        0.78904762, 0.78904762, 0.79047619, 0.78571429]),\n",
       " 'split4_test_score': array([0.78190476, 0.78857143, 0.79285714, 0.7847619 , 0.7847619 ,\n",
       "        0.79285714, 0.7852381 , 0.79047619, 0.79238095]),\n",
       " 'split5_test_score': array([0.78761905, 0.79619048, 0.79238095, 0.78571429, 0.78761905,\n",
       "        0.78904762, 0.78190476, 0.79857143, 0.7947619 ]),\n",
       " 'split6_test_score': array([0.79      , 0.79714286, 0.79952381, 0.7952381 , 0.8       ,\n",
       "        0.7952381 , 0.79761905, 0.79904762, 0.8       ]),\n",
       " 'split7_test_score': array([0.77666667, 0.7752381 , 0.77047619, 0.7752381 , 0.77857143,\n",
       "        0.77952381, 0.77714286, 0.77952381, 0.77619048]),\n",
       " 'split8_test_score': array([0.77047619, 0.78190476, 0.77857143, 0.77428571, 0.77809524,\n",
       "        0.78095238, 0.77571429, 0.77809524, 0.77904762]),\n",
       " 'split9_test_score': array([0.78047619, 0.78904762, 0.7852381 , 0.78619048, 0.8       ,\n",
       "        0.78714286, 0.78714286, 0.79095238, 0.78761905]),\n",
       " 'mean_test_score': array([0.78252381, 0.78666667, 0.78747619, 0.78438095, 0.78738095,\n",
       "        0.787     , 0.7857619 , 0.788     , 0.78747619]),\n",
       " 'std_test_score': array([0.0055698 , 0.00634603, 0.00794268, 0.00633101, 0.00757801,\n",
       "        0.00610583, 0.00642575, 0.00795338, 0.00723449]),\n",
       " 'rank_test_score': array([9, 6, 2, 8, 4, 5, 7, 1, 2]),\n",
       " 'split0_train_score': array([0.92925926, 0.93862434, 0.94021164, 0.92968254, 0.93666667,\n",
       "        0.94042328, 0.9294709 , 0.93783069, 0.94026455]),\n",
       " 'split1_train_score': array([0.9289418 , 0.93671958, 0.93888889, 0.92814815, 0.93714286,\n",
       "        0.93989418, 0.92978836, 0.93798942, 0.93968254]),\n",
       " 'split2_train_score': array([0.92830688, 0.93740741, 0.93968254, 0.92994709, 0.93714286,\n",
       "        0.93968254, 0.92809524, 0.93798942, 0.9389418 ]),\n",
       " 'split3_train_score': array([0.92878307, 0.93666667, 0.93899471, 0.92809524, 0.93708995,\n",
       "        0.93925926, 0.92814815, 0.93666667, 0.93835979]),\n",
       " 'split4_train_score': array([0.92910053, 0.93804233, 0.94074074, 0.93      , 0.93878307,\n",
       "        0.94005291, 0.92941799, 0.93830688, 0.94026455]),\n",
       " 'split5_train_score': array([0.93      , 0.93777778, 0.94026455, 0.93005291, 0.93767196,\n",
       "        0.9405291 , 0.92994709, 0.93740741, 0.94005291]),\n",
       " 'split6_train_score': array([0.92931217, 0.93746032, 0.93989418, 0.92962963, 0.9368254 ,\n",
       "        0.93968254, 0.9284127 , 0.9378836 , 0.93920635]),\n",
       " 'split7_train_score': array([0.92984127, 0.93835979, 0.94079365, 0.92920635, 0.9384127 ,\n",
       "        0.94116402, 0.92994709, 0.93846561, 0.94021164]),\n",
       " 'split8_train_score': array([0.92984127, 0.93835979, 0.94121693, 0.92936508, 0.93814815,\n",
       "        0.94100529, 0.92873016, 0.93830688, 0.94100529]),\n",
       " 'split9_train_score': array([0.93031746, 0.93772487, 0.94037037, 0.92941799, 0.93772487,\n",
       "        0.94021164, 0.9294709 , 0.93825397, 0.94042328]),\n",
       " 'mean_train_score': array([0.92937037, 0.93771429, 0.94010582, 0.9293545 , 0.93756085,\n",
       "        0.94019048, 0.92914286, 0.93791005, 0.93984127]),\n",
       " 'std_train_score': array([0.00059034, 0.00063395, 0.0007181 , 0.00067127, 0.00067196,\n",
       "        0.00057192, 0.00069221, 0.00050598, 0.00075274])}"
      ]
     },
     "execution_count": 126,
     "metadata": {},
     "output_type": "execute_result"
    }
   ],
   "source": [
    "## Examine best parameters\n",
    "RF_grid.cv_results_"
   ]
  },
  {
   "cell_type": "code",
   "execution_count": 127,
   "metadata": {},
   "outputs": [],
   "source": [
    "## set the classifier to best combination of parameters\n",
    "RF3 = RF_grid.best_estimator_"
   ]
  },
  {
   "cell_type": "code",
   "execution_count": 128,
   "metadata": {},
   "outputs": [
    {
     "data": {
      "text/plain": [
       "RandomForestClassifier(bootstrap=True, class_weight=None, criterion='gini',\n",
       "            max_depth=None, max_features='log2', max_leaf_nodes=None,\n",
       "            min_impurity_decrease=0.0, min_impurity_split=None,\n",
       "            min_samples_leaf=1, min_samples_split=2,\n",
       "            min_weight_fraction_leaf=0.0, n_estimators=20, n_jobs=7,\n",
       "            oob_score=False, random_state=None, verbose=0,\n",
       "            warm_start=False)"
      ]
     },
     "execution_count": 128,
     "metadata": {},
     "output_type": "execute_result"
    }
   ],
   "source": [
    "## Fit best algorithm to the data\n",
    "RF3.fit(X_train3, y_train3)"
   ]
  },
  {
   "cell_type": "code",
   "execution_count": 129,
   "metadata": {},
   "outputs": [
    {
     "name": "stdout",
     "output_type": "stream",
     "text": [
      "0.7828101418098798\n"
     ]
    }
   ],
   "source": [
    "## RF mean accuray from 10-fold CV\n",
    "scores = cross_val_score(RF3, X_train3, y_train3, cv=10)\n",
    "print(scores.mean())"
   ]
  },
  {
   "cell_type": "code",
   "execution_count": 130,
   "metadata": {},
   "outputs": [
    {
     "name": "stdout",
     "output_type": "stream",
     "text": [
      "0.7774444444444445\n",
      "             precision    recall  f1-score   support\n",
      "\n",
      "          0       0.80      0.94      0.87      6990\n",
      "          1       0.50      0.20      0.29      2010\n",
      "\n",
      "avg / total       0.74      0.78      0.74      9000\n",
      "\n"
     ]
    }
   ],
   "source": [
    "## RF Prediction on Test Set\n",
    "RF3pred = RF3.predict(X_test3)\n",
    "print(accuracy_score(y_test3,RF3pred))\n",
    "print(classification_report(y_test3, RF3pred))"
   ]
  },
  {
   "cell_type": "markdown",
   "metadata": {},
   "source": [
    "### GBM"
   ]
  },
  {
   "cell_type": "code",
   "execution_count": 131,
   "metadata": {},
   "outputs": [],
   "source": [
    "## Gridsearch parameters for GBM\n",
    "GBM_param = {\n",
    "    'n_estimators' : [100,200,300],\n",
    "    'learning_rate' : [0.1,0.5]\n",
    "}\n",
    "## type of scoring used to compare parameter combinations\n",
    "acc_scorer = make_scorer(accuracy_score)\n",
    "## run the grid search\n",
    "GBM_grid = GridSearchCV(estimator = GBM3, param_grid = GBM_param, return_train_score = True, cv=10)\n",
    "GBM_grid = GBM_grid.fit(X_train3, y_train3)"
   ]
  },
  {
   "cell_type": "code",
   "execution_count": 133,
   "metadata": {},
   "outputs": [
    {
     "data": {
      "text/plain": [
       "{'mean_fit_time': array([2.46861451, 5.17161922, 7.55711846, 2.53081844, 5.03826861,\n",
       "        7.58409772]),\n",
       " 'std_fit_time': array([0.31130401, 0.08452109, 0.08300301, 0.05471387, 0.09792975,\n",
       "        0.08894727]),\n",
       " 'mean_score_time': array([0.00450702, 0.00862427, 0.01066601, 0.00576313, 0.00799696,\n",
       "        0.01085565]),\n",
       " 'std_score_time': array([0.00280453, 0.00246799, 0.00090152, 0.00302073, 0.00182944,\n",
       "        0.00079693]),\n",
       " 'param_learning_rate': masked_array(data=[0.1, 0.1, 0.1, 0.5, 0.5, 0.5],\n",
       "              mask=[False, False, False, False, False, False],\n",
       "        fill_value='?',\n",
       "             dtype=object),\n",
       " 'param_n_estimators': masked_array(data=[100, 200, 300, 100, 200, 300],\n",
       "              mask=[False, False, False, False, False, False],\n",
       "        fill_value='?',\n",
       "             dtype=object),\n",
       " 'params': [{'learning_rate': 0.1, 'n_estimators': 100},\n",
       "  {'learning_rate': 0.1, 'n_estimators': 200},\n",
       "  {'learning_rate': 0.1, 'n_estimators': 300},\n",
       "  {'learning_rate': 0.5, 'n_estimators': 100},\n",
       "  {'learning_rate': 0.5, 'n_estimators': 200},\n",
       "  {'learning_rate': 0.5, 'n_estimators': 300}],\n",
       " 'split0_test_score': array([0.78248453, 0.78200857, 0.78391242, 0.78438839, 0.78438839,\n",
       "        0.77724893]),\n",
       " 'split1_test_score': array([0.79009995, 0.7881961 , 0.78867206, 0.78058068, 0.77486911,\n",
       "        0.76772965]),\n",
       " 'split2_test_score': array([0.79200381, 0.78772013, 0.78534031, 0.77915278, 0.76772965,\n",
       "        0.7591623 ]),\n",
       " 'split3_test_score': array([0.78676821, 0.78676821, 0.78676821, 0.78486435, 0.78391242,\n",
       "        0.77201333]),\n",
       " 'split4_test_score': array([0.79190476, 0.79142857, 0.79095238, 0.79190476, 0.78047619,\n",
       "        0.78333333]),\n",
       " 'split5_test_score': array([0.7847619 , 0.78428571, 0.78619048, 0.78      , 0.77904762,\n",
       "        0.77428571]),\n",
       " 'split6_test_score': array([0.78989995, 0.78894712, 0.78894712, 0.78275369, 0.77894235,\n",
       "        0.77131968]),\n",
       " 'split7_test_score': array([0.80371606, 0.79990472, 0.79799905, 0.78323011, 0.77798952,\n",
       "        0.77513101]),\n",
       " 'split8_test_score': array([0.78799428, 0.78751787, 0.78894712, 0.78894712, 0.78084802,\n",
       "        0.77370176]),\n",
       " 'split9_test_score': array([0.79990472, 0.80085755, 0.80181039, 0.78704145, 0.78513578,\n",
       "        0.77941877]),\n",
       " 'mean_test_score': array([0.79095238, 0.7897619 , 0.78995238, 0.78428571, 0.77933333,\n",
       "        0.77333333]),\n",
       " 'std_test_score': array([0.00618958, 0.00583163, 0.00540369, 0.00386813, 0.00490391,\n",
       "        0.00628294]),\n",
       " 'rank_test_score': array([1, 3, 2, 4, 5, 6]),\n",
       " 'split0_train_score': array([0.79887825, 0.80506905, 0.81073073, 0.82311233, 0.8485105 ,\n",
       "        0.87216255]),\n",
       " 'split1_train_score': array([0.7974496 , 0.80369332, 0.80824382, 0.82454098, 0.84776972,\n",
       "        0.87216255]),\n",
       " 'split2_train_score': array([0.79707921, 0.80289962, 0.8097783 , 0.82147204, 0.8485105 ,\n",
       "        0.8719509 ]),\n",
       " 'split3_train_score': array([0.79707921, 0.80311128, 0.80840256, 0.82528176, 0.85009789,\n",
       "        0.87068099]),\n",
       " 'split4_train_score': array([0.79518519, 0.80275132, 0.80804233, 0.82079365, 0.84973545,\n",
       "        0.87153439]),\n",
       " 'split5_train_score': array([0.79693122, 0.80338624, 0.8078836 , 0.82296296, 0.84804233,\n",
       "        0.86984127]),\n",
       " 'split6_train_score': array([0.79678324, 0.80344955, 0.80868737, 0.82455955, 0.84905561,\n",
       "        0.87064176]),\n",
       " 'split7_train_score': array([0.79482567, 0.80228559, 0.80937517, 0.82307814, 0.84910851,\n",
       "        0.8715941 ]),\n",
       " 'split8_train_score': array([0.79699487, 0.80212687, 0.80752341, 0.82577641, 0.84958468,\n",
       "        0.87360457]),\n",
       " 'split9_train_score': array([0.79598963, 0.80228559, 0.80704725, 0.8205386 , 0.8468335 ,\n",
       "        0.87122374]),\n",
       " 'mean_train_score': array([0.79671961, 0.80310584, 0.80857145, 0.82321164, 0.84872487,\n",
       "        0.87153968]),\n",
       " 'std_train_score': array([0.00109773, 0.00082875, 0.00105304, 0.001748  , 0.00094603,\n",
       "        0.0009869 ])}"
      ]
     },
     "execution_count": 133,
     "metadata": {},
     "output_type": "execute_result"
    }
   ],
   "source": [
    "## Examine best parameters\n",
    "GBM_grid.cv_results_"
   ]
  },
  {
   "cell_type": "code",
   "execution_count": 134,
   "metadata": {},
   "outputs": [],
   "source": [
    "## set the classifier to best combination of parameters\n",
    "GBM3 = GBM_grid.best_estimator_"
   ]
  },
  {
   "cell_type": "code",
   "execution_count": 135,
   "metadata": {},
   "outputs": [
    {
     "data": {
      "text/plain": [
       "GradientBoostingClassifier(criterion='friedman_mse', init=None,\n",
       "              learning_rate=0.1, loss='deviance', max_depth=3,\n",
       "              max_features=None, max_leaf_nodes=None,\n",
       "              min_impurity_decrease=0.0, min_impurity_split=None,\n",
       "              min_samples_leaf=1, min_samples_split=2,\n",
       "              min_weight_fraction_leaf=0.0, n_estimators=100,\n",
       "              presort='auto', random_state=None, subsample=1.0, verbose=0,\n",
       "              warm_start=False)"
      ]
     },
     "execution_count": 135,
     "metadata": {},
     "output_type": "execute_result"
    }
   ],
   "source": [
    "## Fit best algorithm to the data\n",
    "GBM3.fit(X_train3, y_train3)"
   ]
  },
  {
   "cell_type": "code",
   "execution_count": 136,
   "metadata": {},
   "outputs": [
    {
     "name": "stdout",
     "output_type": "stream",
     "text": [
      "0.7909061753377571\n"
     ]
    }
   ],
   "source": [
    "## GBM mean accuray from 10-fold CV\n",
    "scores = cross_val_score(GBM3, X_train3, y_train3, cv=10)\n",
    "print(scores.mean())"
   ]
  },
  {
   "cell_type": "code",
   "execution_count": 137,
   "metadata": {
    "scrolled": false
   },
   "outputs": [
    {
     "name": "stdout",
     "output_type": "stream",
     "text": [
      "0.791\n",
      "             precision    recall  f1-score   support\n",
      "\n",
      "          0       0.80      0.97      0.88      6990\n",
      "          1       0.63      0.16      0.25      2010\n",
      "\n",
      "avg / total       0.76      0.79      0.74      9000\n",
      "\n"
     ]
    }
   ],
   "source": [
    "## GBM Prediction on Test Set\n",
    "GBM3pred = GBM3.predict(X_test3)\n",
    "print(accuracy_score(y_test3,GBM3pred))\n",
    "print(classification_report(y_test3, GBM3pred))"
   ]
  },
  {
   "cell_type": "markdown",
   "metadata": {},
   "source": [
    "## Final model performance comparison"
   ]
  },
  {
   "cell_type": "code",
   "execution_count": 191,
   "metadata": {
    "scrolled": true
   },
   "outputs": [
    {
     "name": "stdout",
     "output_type": "stream",
     "text": [
      "kNN accuray: 0.775 kNN F1-score: 0.150\n",
      "RF accuray: 0.808 RF F1-score: 0.459\n",
      "GBM accuray: 0.814 GBM F1-score: 0.473\n",
      "SVM accuray: 0.773 SVM F1-score: 0.028\n",
      "NNaccuray: 0.773 NN F1-score: 0.001\n"
     ]
    }
   ],
   "source": [
    "## Comparing accuracy and F1 score of different models for training set 1 (full set)\n",
    "print('kNN accuray: %.3f' % accuracy_score(y_test1,kNNpred), 'kNN F1-score: %.3f' % f1_score(y_test1,kNNpred))\n",
    "print('RF accuray: %.3f' % accuracy_score(y_test1,RFpred), 'RF F1-score: %.3f' % f1_score(y_test1,RFpred))\n",
    "print('GBM accuray: %.3f' % accuracy_score(y_test1,GBMpred), 'GBM F1-score: %.3f' % f1_score(y_test1,GBMpred))\n",
    "print('SVM accuray: %.3f' % accuracy_score(y_test1,SVMpred), 'SVM F1-score: %.3f' % f1_score(y_test1,SVMpred))\n",
    "print('NNaccuray: %.3f' % accuracy_score(y_test1,NNpred), 'NN F1-score: %.3f' % f1_score(y_test1,NNpred))"
   ]
  },
  {
   "cell_type": "code",
   "execution_count": 192,
   "metadata": {
    "scrolled": true
   },
   "outputs": [
    {
     "name": "stdout",
     "output_type": "stream",
     "text": [
      "RF accuray: 0.793 RF F1-score: 0.442\n",
      "GBM accuray: 0.824 GBM F1-score: 0.489\n"
     ]
    }
   ],
   "source": [
    "## Comparing accuracy and F1 score of different models on training set 2\n",
    "print('RF accuray: %.3f' % accuracy_score(y_test2,RF2pred), 'RF F1-score: %.3f' % f1_score(y_test2,RF2pred))\n",
    "print('GBM accuray: %.3f' % accuracy_score(y_test2,GBM2pred), 'GBM F1-score: %.3f' % f1_score(y_test2,GBM2pred))"
   ]
  },
  {
   "cell_type": "code",
   "execution_count": 193,
   "metadata": {
    "scrolled": true
   },
   "outputs": [
    {
     "name": "stdout",
     "output_type": "stream",
     "text": [
      "RF accuray: 0.777 RF F1-score: 0.291\n",
      "GBM accuray: 0.791 GBM F1-score: 0.253\n"
     ]
    }
   ],
   "source": [
    "## Comparing accuracy and F1 score of different models on training set 3\n",
    "print('RF accuray: %.3f' % accuracy_score(y_test3,RF3pred), 'RF F1-score: %.3f' % f1_score(y_test3,RF3pred))\n",
    "print('GBM accuray: %.3f' % accuracy_score(y_test3,GBM3pred), 'GBM F1-score: %.3f' % f1_score(y_test3,GBM3pred))"
   ]
  },
  {
   "cell_type": "code",
   "execution_count": null,
   "metadata": {},
   "outputs": [],
   "source": [
    "## best model is GBM on training set 2 (bill_amt and pay_amt removed)"
   ]
  },
  {
   "cell_type": "markdown",
   "metadata": {},
   "source": [
    "## Learning curve of GBM"
   ]
  },
  {
   "cell_type": "code",
   "execution_count": 142,
   "metadata": {},
   "outputs": [],
   "source": [
    "from sklearn.model_selection import learning_curve"
   ]
  },
  {
   "cell_type": "code",
   "execution_count": 172,
   "metadata": {},
   "outputs": [],
   "source": [
    "## Learning curve of GBM on Training set 1\n",
    "train_sizes, train_scores1, valid_scores1 = learning_curve(\n",
    "    GBM, X_train1, y_train1, train_sizes = [200,400,800, 1600, 3200,10000], cv =10)"
   ]
  },
  {
   "cell_type": "code",
   "execution_count": 173,
   "metadata": {},
   "outputs": [
    {
     "name": "stdout",
     "output_type": "stream",
     "text": [
      "[0.995      0.96875    0.90875    0.8815625  0.85340625 0.83744   ]\n",
      "[0.79709577 0.79838067 0.80547659 0.81485761 0.81766645 0.82285716]\n"
     ]
    }
   ],
   "source": [
    "train_scores1 = train_scores1.mean(axis=1)\n",
    "print(train_scores1)\n",
    "valid_scores1 = valid_scores1.mean(axis=1)\n",
    "print (valid_scores1)"
   ]
  },
  {
   "cell_type": "code",
   "execution_count": 174,
   "metadata": {},
   "outputs": [],
   "source": [
    "## Learning curve of GBM2 on Training set 2\n",
    "train_sizes, train_scores2, valid_scores2 = learning_curve(\n",
    "    GBM2, X_train2, y_train2, train_sizes = [200,400,800, 1600, 3200,10000], cv =10)"
   ]
  },
  {
   "cell_type": "code",
   "execution_count": 175,
   "metadata": {},
   "outputs": [
    {
     "name": "stdout",
     "output_type": "stream",
     "text": [
      "[0.9505     0.91525    0.873375   0.85225    0.83871875 0.82718   ]\n",
      "[0.78019048 0.78504762 0.80271429 0.8132381  0.81495238 0.8177619 ]\n"
     ]
    }
   ],
   "source": [
    "train_scores2 = train_scores2.mean(axis=1)\n",
    "print(train_scores2)\n",
    "valid_scores2 = valid_scores2.mean(axis=1)\n",
    "print (valid_scores2)"
   ]
  },
  {
   "cell_type": "code",
   "execution_count": 182,
   "metadata": {},
   "outputs": [
    {
     "data": {
      "image/png": "[encoded data removed]",
      "text/plain": [
       "<Figure size 432x288 with 1 Axes>"
      ]
     },
     "metadata": {},
     "output_type": "display_data"
    }
   ],
   "source": [
    "plt.plot(train_sizes,train_scores1, linestyle='-', marker = 'o', color = 'red', label = 'train score 1')\n",
    "plt.plot(train_sizes,valid_scores1, linestyle='-', marker = 'o', color = 'red', label = 'valid score 1')\n",
    "plt.plot(train_sizes,train_scores2, linestyle='-', marker = 'o', color = 'blue', label = 'train score 2')\n",
    "plt.plot(train_sizes,valid_scores2, linestyle='-', marker = 'o', color = 'blue', label = 'valid score 2')\n",
    "plt.xlabel('train size')\n",
    "plt.ylabel(\"score\")\n",
    "plt.legend(loc = \"upper right\")\n",
    "plt.show()"
   ]
  },
  {
   "cell_type": "code",
   "execution_count": null,
   "metadata": {},
   "outputs": [],
   "source": [
    "## more data will not improve the model by a significant amount"
   ]
  },
  {
   "cell_type": "markdown",
   "metadata": {},
   "source": [
    "## Understand Feature importance with GBM"
   ]
  },
  {
   "cell_type": "code",
   "execution_count": 189,
   "metadata": {},
   "outputs": [],
   "source": [
    "feature_importance = pd.DataFrame(GBM.feature_importances_,index = X_train1.columns, columns =\n",
    "                                  ['importance']).sort_values('importance', ascending = False)"
   ]
  },
  {
   "cell_type": "code",
   "execution_count": 190,
   "metadata": {},
   "outputs": [
    {
     "data": {
      "text/html": [
       "<div>\n",
       "<style scoped>\n",
       "    .dataframe tbody tr th:only-of-type {\n",
       "        vertical-align: middle;\n",
       "    }\n",
       "\n",
       "    .dataframe tbody tr th {\n",
       "        vertical-align: top;\n",
       "    }\n",
       "\n",
       "    .dataframe thead th {\n",
       "        text-align: right;\n",
       "    }\n",
       "</style>\n",
       "<table border=\"1\" class=\"dataframe\">\n",
       "  <thead>\n",
       "    <tr style=\"text-align: right;\">\n",
       "      <th></th>\n",
       "      <th>importance</th>\n",
       "    </tr>\n",
       "  </thead>\n",
       "  <tbody>\n",
       "    <tr>\n",
       "      <th>PAY_0</th>\n",
       "      <td>0.148653</td>\n",
       "    </tr>\n",
       "    <tr>\n",
       "      <th>BILL_AMT1</th>\n",
       "      <td>0.090442</td>\n",
       "    </tr>\n",
       "    <tr>\n",
       "      <th>LIMIT_BAL</th>\n",
       "      <td>0.069055</td>\n",
       "    </tr>\n",
       "    <tr>\n",
       "      <th>BILL_AMT2</th>\n",
       "      <td>0.067688</td>\n",
       "    </tr>\n",
       "    <tr>\n",
       "      <th>BILL_AMT4</th>\n",
       "      <td>0.060473</td>\n",
       "    </tr>\n",
       "    <tr>\n",
       "      <th>BILL_AMT3</th>\n",
       "      <td>0.050502</td>\n",
       "    </tr>\n",
       "    <tr>\n",
       "      <th>PAY_AMT2</th>\n",
       "      <td>0.045813</td>\n",
       "    </tr>\n",
       "    <tr>\n",
       "      <th>PAY_AMT1</th>\n",
       "      <td>0.042666</td>\n",
       "    </tr>\n",
       "    <tr>\n",
       "      <th>BILL_AMT5</th>\n",
       "      <td>0.042268</td>\n",
       "    </tr>\n",
       "    <tr>\n",
       "      <th>PAY_AMT3</th>\n",
       "      <td>0.042188</td>\n",
       "    </tr>\n",
       "    <tr>\n",
       "      <th>BILL_AMT6</th>\n",
       "      <td>0.039871</td>\n",
       "    </tr>\n",
       "    <tr>\n",
       "      <th>PAY_2</th>\n",
       "      <td>0.037258</td>\n",
       "    </tr>\n",
       "    <tr>\n",
       "      <th>PAY_6</th>\n",
       "      <td>0.037103</td>\n",
       "    </tr>\n",
       "    <tr>\n",
       "      <th>PAY_AMT5</th>\n",
       "      <td>0.033994</td>\n",
       "    </tr>\n",
       "    <tr>\n",
       "      <th>PAY_AMT6</th>\n",
       "      <td>0.032223</td>\n",
       "    </tr>\n",
       "    <tr>\n",
       "      <th>MARRIAGE</th>\n",
       "      <td>0.027542</td>\n",
       "    </tr>\n",
       "    <tr>\n",
       "      <th>PAY_3</th>\n",
       "      <td>0.026997</td>\n",
       "    </tr>\n",
       "    <tr>\n",
       "      <th>EDUCATION</th>\n",
       "      <td>0.024756</td>\n",
       "    </tr>\n",
       "    <tr>\n",
       "      <th>PAY_AMT4</th>\n",
       "      <td>0.021223</td>\n",
       "    </tr>\n",
       "    <tr>\n",
       "      <th>PAY_5</th>\n",
       "      <td>0.020275</td>\n",
       "    </tr>\n",
       "    <tr>\n",
       "      <th>PAY_4</th>\n",
       "      <td>0.017633</td>\n",
       "    </tr>\n",
       "    <tr>\n",
       "      <th>AGE_BIN</th>\n",
       "      <td>0.010872</td>\n",
       "    </tr>\n",
       "    <tr>\n",
       "      <th>SEX</th>\n",
       "      <td>0.010503</td>\n",
       "    </tr>\n",
       "  </tbody>\n",
       "</table>\n",
       "</div>"
      ],
      "text/plain": [
       "           importance\n",
       "PAY_0        0.148653\n",
       "BILL_AMT1    0.090442\n",
       "LIMIT_BAL    0.069055\n",
       "BILL_AMT2    0.067688\n",
       "BILL_AMT4    0.060473\n",
       "BILL_AMT3    0.050502\n",
       "PAY_AMT2     0.045813\n",
       "PAY_AMT1     0.042666\n",
       "BILL_AMT5    0.042268\n",
       "PAY_AMT3     0.042188\n",
       "BILL_AMT6    0.039871\n",
       "PAY_2        0.037258\n",
       "PAY_6        0.037103\n",
       "PAY_AMT5     0.033994\n",
       "PAY_AMT6     0.032223\n",
       "MARRIAGE     0.027542\n",
       "PAY_3        0.026997\n",
       "EDUCATION    0.024756\n",
       "PAY_AMT4     0.021223\n",
       "PAY_5        0.020275\n",
       "PAY_4        0.017633\n",
       "AGE_BIN      0.010872\n",
       "SEX          0.010503"
      ]
     },
     "execution_count": 190,
     "metadata": {},
     "output_type": "execute_result"
    }
   ],
   "source": [
    "feature_importance"
   ]
  },
  {
   "cell_type": "code",
   "execution_count": null,
   "metadata": {},
   "outputs": [],
   "source": []
  }
 ],
 "metadata": {
  "kernelspec": {
   "display_name": "Python 3",
   "language": "python",
   "name": "python3"
  },
  "language_info": {
   "codemirror_mode": {
    "name": "ipython",
    "version": 3
   },
   "file_extension": ".py",
   "mimetype": "text/x-python",
   "name": "python",
   "nbconvert_exporter": "python",
   "pygments_lexer": "ipython3",
   "version": "3.6.5"
  }
 },
 "nbformat": 4,
 "nbformat_minor": 2
}
